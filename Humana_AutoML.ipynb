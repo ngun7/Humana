{
  "nbformat": 4,
  "nbformat_minor": 0,
  "metadata": {
    "colab": {
      "name": "Humana_AutoML.ipynb",
      "provenance": [],
      "collapsed_sections": [],
      "machine_shape": "hm"
    },
    "kernelspec": {
      "name": "python3",
      "display_name": "Python 3"
    }
  },
  "cells": [
    {
      "cell_type": "code",
      "metadata": {
        "id": "iPwGN4QzWjlP",
        "outputId": "98e7a418-7cec-4ffa-8ca4-c46ec5b9d7ce",
        "colab": {
          "base_uri": "https://localhost:8080/",
          "height": 35
        }
      },
      "source": [
        "from google.colab import drive\n",
        "drive.mount('/content/drive')"
      ],
      "execution_count": null,
      "outputs": [
        {
          "output_type": "stream",
          "text": [
            "Mounted at /content/drive\n"
          ],
          "name": "stdout"
        }
      ]
    },
    {
      "cell_type": "code",
      "metadata": {
        "id": "NaQKtgO6VQPA"
      },
      "source": [
        "import numpy as np\n",
        "import pandas as pd\n",
        "import matplotlib.pyplot as plt\n",
        "import seaborn as sns\n",
        "from sklearn.utils import resample\n",
        "from sklearn.model_selection import train_test_split\n",
        "from sklearn.linear_model import LogisticRegression\n",
        "from sklearn.tree import DecisionTreeClassifier\n",
        "from sklearn.svm import SVC\n",
        "from sklearn.metrics import fbeta_score, recall_score, precision_score, average_precision_score\n",
        "from sklearn.metrics import precision_recall_curve, accuracy_score, f1_score\n",
        "from sklearn.ensemble import RandomForestClassifier\n",
        "from imblearn.over_sampling import SMOTE\n",
        "from imblearn.under_sampling import NearMiss\n",
        "import seaborn as sns\n",
        "from collections import Counter\n",
        "from sklearn.metrics import make_scorer\n",
        "from xgboost import XGBClassifier\n",
        "sns.set(style='white')\n",
        "sns.set(style='whitegrid', color_codes=True)\n",
        "import warnings\n",
        "warnings.filterwarnings('ignore')"
      ],
      "execution_count": null,
      "outputs": []
    },
    {
      "cell_type": "code",
      "metadata": {
        "id": "TUkQDqUMWuk6",
        "outputId": "ecf2cd7e-df24-4aed-c1e0-e7660dc2c884",
        "colab": {
          "base_uri": "https://localhost:8080/",
          "height": 35
        }
      },
      "source": [
        "cd \"/content/drive/My Drive/Case_Competition/Humana_2020/Data\""
      ],
      "execution_count": null,
      "outputs": [
        {
          "output_type": "stream",
          "text": [
            "/content/drive/My Drive/Case_Competition/Humana_2020/Data\n"
          ],
          "name": "stdout"
        }
      ]
    },
    {
      "cell_type": "code",
      "metadata": {
        "id": "rtiGi0RTXitr",
        "outputId": "2cffc4fa-946b-41fc-c860-9c1e3109952e",
        "colab": {
          "base_uri": "https://localhost:8080/",
          "height": 543
        }
      },
      "source": [
        "import h2o\n",
        "from h2o.automl import H2OAutoML\n",
        "h2o.init(max_mem_size='16G')"
      ],
      "execution_count": null,
      "outputs": [
        {
          "output_type": "stream",
          "text": [
            "Checking whether there is an H2O instance running at http://localhost:54321 ..... not found.\n",
            "Attempting to start a local H2O server...\n",
            "  Java Version: openjdk version \"11.0.8\" 2020-07-14; OpenJDK Runtime Environment (build 11.0.8+10-post-Ubuntu-0ubuntu118.04.1); OpenJDK 64-Bit Server VM (build 11.0.8+10-post-Ubuntu-0ubuntu118.04.1, mixed mode, sharing)\n",
            "  Starting server from /usr/local/lib/python3.6/dist-packages/h2o/backend/bin/h2o.jar\n",
            "  Ice root: /tmp/tmpzjg1ca5v\n",
            "  JVM stdout: /tmp/tmpzjg1ca5v/h2o_unknownUser_started_from_python.out\n",
            "  JVM stderr: /tmp/tmpzjg1ca5v/h2o_unknownUser_started_from_python.err\n",
            "  Server is running at http://127.0.0.1:54321\n",
            "Connecting to H2O server at http://127.0.0.1:54321 ... successful.\n"
          ],
          "name": "stdout"
        },
        {
          "output_type": "display_data",
          "data": {
            "text/html": [
              "<div style=\"overflow:auto\"><table style=\"width:50%\"><tr><td>H2O_cluster_uptime:</td>\n",
              "<td>02 secs</td></tr>\n",
              "<tr><td>H2O_cluster_timezone:</td>\n",
              "<td>Etc/UTC</td></tr>\n",
              "<tr><td>H2O_data_parsing_timezone:</td>\n",
              "<td>UTC</td></tr>\n",
              "<tr><td>H2O_cluster_version:</td>\n",
              "<td>3.30.1.3</td></tr>\n",
              "<tr><td>H2O_cluster_version_age:</td>\n",
              "<td>12 days </td></tr>\n",
              "<tr><td>H2O_cluster_name:</td>\n",
              "<td>H2O_from_python_unknownUser_kshmeo</td></tr>\n",
              "<tr><td>H2O_cluster_total_nodes:</td>\n",
              "<td>1</td></tr>\n",
              "<tr><td>H2O_cluster_free_memory:</td>\n",
              "<td>16 Gb</td></tr>\n",
              "<tr><td>H2O_cluster_total_cores:</td>\n",
              "<td>4</td></tr>\n",
              "<tr><td>H2O_cluster_allowed_cores:</td>\n",
              "<td>4</td></tr>\n",
              "<tr><td>H2O_cluster_status:</td>\n",
              "<td>accepting new members, healthy</td></tr>\n",
              "<tr><td>H2O_connection_url:</td>\n",
              "<td>http://127.0.0.1:54321</td></tr>\n",
              "<tr><td>H2O_connection_proxy:</td>\n",
              "<td>{\"http\": null, \"https\": null}</td></tr>\n",
              "<tr><td>H2O_internal_security:</td>\n",
              "<td>False</td></tr>\n",
              "<tr><td>H2O_API_Extensions:</td>\n",
              "<td>Amazon S3, XGBoost, Algos, AutoML, Core V3, TargetEncoder, Core V4</td></tr>\n",
              "<tr><td>Python_version:</td>\n",
              "<td>3.6.9 final</td></tr></table></div>"
            ],
            "text/plain": [
              "--------------------------  ------------------------------------------------------------------\n",
              "H2O_cluster_uptime:         02 secs\n",
              "H2O_cluster_timezone:       Etc/UTC\n",
              "H2O_data_parsing_timezone:  UTC\n",
              "H2O_cluster_version:        3.30.1.3\n",
              "H2O_cluster_version_age:    12 days\n",
              "H2O_cluster_name:           H2O_from_python_unknownUser_kshmeo\n",
              "H2O_cluster_total_nodes:    1\n",
              "H2O_cluster_free_memory:    16 Gb\n",
              "H2O_cluster_total_cores:    4\n",
              "H2O_cluster_allowed_cores:  4\n",
              "H2O_cluster_status:         accepting new members, healthy\n",
              "H2O_connection_url:         http://127.0.0.1:54321\n",
              "H2O_connection_proxy:       {\"http\": null, \"https\": null}\n",
              "H2O_internal_security:      False\n",
              "H2O_API_Extensions:         Amazon S3, XGBoost, Algos, AutoML, Core V3, TargetEncoder, Core V4\n",
              "Python_version:             3.6.9 final\n",
              "--------------------------  ------------------------------------------------------------------"
            ]
          },
          "metadata": {
            "tags": []
          }
        }
      ]
    },
    {
      "cell_type": "code",
      "metadata": {
        "id": "QQVI97k9Yvoi",
        "outputId": "9d36bd01-3ab3-40c4-b246-c4448e4673b6",
        "colab": {
          "base_uri": "https://localhost:8080/",
          "height": 52
        }
      },
      "source": [
        "train  = h2o.import_file('/content/drive/My Drive/Case_Competition/Humana_2020/pca_smote_sampled.csv')\n",
        "test = h2o.import_file('/content/drive/My Drive/Case_Competition/Humana_2020/pca_unseen_data.csv')"
      ],
      "execution_count": null,
      "outputs": [
        {
          "output_type": "stream",
          "text": [
            "Parse progress: |█████████████████████████████████████████████████████████| 100%\n",
            "Parse progress: |█████████████████████████████████████████████████████████| 100%\n"
          ],
          "name": "stdout"
        }
      ]
    },
    {
      "cell_type": "code",
      "metadata": {
        "id": "BETZ8SYN6AKh"
      },
      "source": [
        "# Identify predictors and response\n",
        "x = train.columns\n",
        "y = \"transportation_issues\"\n",
        "x.remove(y)\n",
        "\n",
        "# For binary classification, response should be a factor\n",
        "train[y] = train[y].asfactor()\n",
        "test[y] = test[y].asfactor()"
      ],
      "execution_count": null,
      "outputs": []
    },
    {
      "cell_type": "code",
      "metadata": {
        "id": "OKgcRHXY6AT-",
        "outputId": "29ca22bc-6464-4b3e-f037-1740269d3081",
        "colab": {
          "base_uri": "https://localhost:8080/",
          "height": 35
        }
      },
      "source": [
        "# Run AutoML for 20 base models (limited to 1 hour max runtime by default)\n",
        "aml = H2OAutoML(max_runtime_secs=600, seed=1)\n",
        "aml.train(x=x, y=y, training_frame=train)"
      ],
      "execution_count": null,
      "outputs": [
        {
          "output_type": "stream",
          "text": [
            "AutoML progress: |████████████████████████████████████████████████████████| 100%\n"
          ],
          "name": "stdout"
        }
      ]
    },
    {
      "cell_type": "code",
      "metadata": {
        "id": "QhRSYUsf6Anv",
        "outputId": "f4e02818-eb98-472b-8a8d-a061a4d07e6b",
        "colab": {
          "base_uri": "https://localhost:8080/",
          "height": 536
        }
      },
      "source": [
        "# View the AutoML Leaderboard\n",
        "lb = aml.leaderboard\n",
        "lb.head(rows=lb.nrows)  # Print all rows instead of default (10 rows)"
      ],
      "execution_count": null,
      "outputs": [
        {
          "output_type": "display_data",
          "data": {
            "text/html": [
              "<table>\n",
              "<thead>\n",
              "<tr><th>model_id                                           </th><th style=\"text-align: right;\">     auc</th><th style=\"text-align: right;\">  logloss</th><th style=\"text-align: right;\">   aucpr</th><th style=\"text-align: right;\">  mean_per_class_error</th><th style=\"text-align: right;\">    rmse</th><th style=\"text-align: right;\">     mse</th></tr>\n",
              "</thead>\n",
              "<tbody>\n",
              "<tr><td>StackedEnsemble_BestOfFamily_AutoML_20201011_150054</td><td style=\"text-align: right;\">0.905322</td><td style=\"text-align: right;\"> 0.389469</td><td style=\"text-align: right;\">0.896823</td><td style=\"text-align: right;\">              0.17663 </td><td style=\"text-align: right;\">0.350654</td><td style=\"text-align: right;\">0.122958</td></tr>\n",
              "<tr><td>StackedEnsemble_AllModels_AutoML_20201011_150054   </td><td style=\"text-align: right;\">0.905322</td><td style=\"text-align: right;\"> 0.389469</td><td style=\"text-align: right;\">0.896823</td><td style=\"text-align: right;\">              0.17663 </td><td style=\"text-align: right;\">0.350654</td><td style=\"text-align: right;\">0.122958</td></tr>\n",
              "<tr><td>DRF_1_AutoML_20201011_150054                       </td><td style=\"text-align: right;\">0.888374</td><td style=\"text-align: right;\"> 0.454929</td><td style=\"text-align: right;\">0.876421</td><td style=\"text-align: right;\">              0.198145</td><td style=\"text-align: right;\">0.375211</td><td style=\"text-align: right;\">0.140784</td></tr>\n",
              "<tr><td>XRT_1_AutoML_20201011_150054                       </td><td style=\"text-align: right;\">0.882769</td><td style=\"text-align: right;\"> 0.461085</td><td style=\"text-align: right;\">0.871428</td><td style=\"text-align: right;\">              0.198217</td><td style=\"text-align: right;\">0.379885</td><td style=\"text-align: right;\">0.144313</td></tr>\n",
              "<tr><td>XGBoost_2_AutoML_20201011_150054                   </td><td style=\"text-align: right;\">0.806345</td><td style=\"text-align: right;\"> 0.544149</td><td style=\"text-align: right;\">0.785377</td><td style=\"text-align: right;\">              0.281144</td><td style=\"text-align: right;\">0.426623</td><td style=\"text-align: right;\">0.182007</td></tr>\n",
              "<tr><td>XGBoost_grid__1_AutoML_20201011_150054_model_1     </td><td style=\"text-align: right;\">0.803505</td><td style=\"text-align: right;\"> 0.541178</td><td style=\"text-align: right;\">0.777743</td><td style=\"text-align: right;\">              0.278465</td><td style=\"text-align: right;\">0.425978</td><td style=\"text-align: right;\">0.181457</td></tr>\n",
              "<tr><td>GBM_grid__1_AutoML_20201011_150054_model_2         </td><td style=\"text-align: right;\">0.800791</td><td style=\"text-align: right;\"> 0.555441</td><td style=\"text-align: right;\">0.774444</td><td style=\"text-align: right;\">              0.28667 </td><td style=\"text-align: right;\">0.431901</td><td style=\"text-align: right;\">0.186539</td></tr>\n",
              "<tr><td>GBM_4_AutoML_20201011_150054                       </td><td style=\"text-align: right;\">0.792535</td><td style=\"text-align: right;\"> 0.582345</td><td style=\"text-align: right;\">0.766758</td><td style=\"text-align: right;\">              0.295428</td><td style=\"text-align: right;\">0.444252</td><td style=\"text-align: right;\">0.19736 </td></tr>\n",
              "<tr><td>GBM_5_AutoML_20201011_150054                       </td><td style=\"text-align: right;\">0.771242</td><td style=\"text-align: right;\"> 0.601559</td><td style=\"text-align: right;\">0.749345</td><td style=\"text-align: right;\">              0.324896</td><td style=\"text-align: right;\">0.453937</td><td style=\"text-align: right;\">0.206059</td></tr>\n",
              "<tr><td>XGBoost_1_AutoML_20201011_150054                   </td><td style=\"text-align: right;\">0.770134</td><td style=\"text-align: right;\"> 0.579835</td><td style=\"text-align: right;\">0.746264</td><td style=\"text-align: right;\">              0.315658</td><td style=\"text-align: right;\">0.444327</td><td style=\"text-align: right;\">0.197426</td></tr>\n",
              "<tr><td>GBM_3_AutoML_20201011_150054                       </td><td style=\"text-align: right;\">0.762311</td><td style=\"text-align: right;\"> 0.600537</td><td style=\"text-align: right;\">0.7371  </td><td style=\"text-align: right;\">              0.33208 </td><td style=\"text-align: right;\">0.453684</td><td style=\"text-align: right;\">0.20583 </td></tr>\n",
              "<tr><td>GBM_2_AutoML_20201011_150054                       </td><td style=\"text-align: right;\">0.744649</td><td style=\"text-align: right;\"> 0.611312</td><td style=\"text-align: right;\">0.720813</td><td style=\"text-align: right;\">              0.347229</td><td style=\"text-align: right;\">0.459194</td><td style=\"text-align: right;\">0.210859</td></tr>\n",
              "<tr><td>XGBoost_3_AutoML_20201011_150054                   </td><td style=\"text-align: right;\">0.730189</td><td style=\"text-align: right;\"> 0.610366</td><td style=\"text-align: right;\">0.705394</td><td style=\"text-align: right;\">              0.365633</td><td style=\"text-align: right;\">0.459388</td><td style=\"text-align: right;\">0.211037</td></tr>\n",
              "<tr><td>XGBoost_grid__1_AutoML_20201011_150054_model_2     </td><td style=\"text-align: right;\">0.729642</td><td style=\"text-align: right;\"> 0.611076</td><td style=\"text-align: right;\">0.70472 </td><td style=\"text-align: right;\">              0.365453</td><td style=\"text-align: right;\">0.459701</td><td style=\"text-align: right;\">0.211325</td></tr>\n",
              "<tr><td>GBM_1_AutoML_20201011_150054                       </td><td style=\"text-align: right;\">0.726492</td><td style=\"text-align: right;\"> 0.623163</td><td style=\"text-align: right;\">0.703505</td><td style=\"text-align: right;\">              0.366101</td><td style=\"text-align: right;\">0.465125</td><td style=\"text-align: right;\">0.216342</td></tr>\n",
              "<tr><td>GBM_grid__1_AutoML_20201011_150054_model_1         </td><td style=\"text-align: right;\">0.71914 </td><td style=\"text-align: right;\"> 0.619203</td><td style=\"text-align: right;\">0.695348</td><td style=\"text-align: right;\">              0.374006</td><td style=\"text-align: right;\">0.463557</td><td style=\"text-align: right;\">0.214885</td></tr>\n",
              "<tr><td>DeepLearning_grid__1_AutoML_20201011_150054_model_1</td><td style=\"text-align: right;\">0.718763</td><td style=\"text-align: right;\"> 0.947208</td><td style=\"text-align: right;\">0.692818</td><td style=\"text-align: right;\">              0.36723 </td><td style=\"text-align: right;\">0.576494</td><td style=\"text-align: right;\">0.332346</td></tr>\n",
              "<tr><td>GBM_grid__1_AutoML_20201011_150054_model_3         </td><td style=\"text-align: right;\">0.691516</td><td style=\"text-align: right;\"> 0.671975</td><td style=\"text-align: right;\">0.66915 </td><td style=\"text-align: right;\">              0.398333</td><td style=\"text-align: right;\">0.489344</td><td style=\"text-align: right;\">0.239457</td></tr>\n",
              "<tr><td>GLM_1_AutoML_20201011_150054                       </td><td style=\"text-align: right;\">0.665554</td><td style=\"text-align: right;\"> 0.651461</td><td style=\"text-align: right;\">0.643369</td><td style=\"text-align: right;\">              0.439297</td><td style=\"text-align: right;\">0.479206</td><td style=\"text-align: right;\">0.229638</td></tr>\n",
              "<tr><td>DeepLearning_grid__2_AutoML_20201011_150054_model_1</td><td style=\"text-align: right;\">0.635188</td><td style=\"text-align: right;\"> 0.96384 </td><td style=\"text-align: right;\">0.600625</td><td style=\"text-align: right;\">              0.416821</td><td style=\"text-align: right;\">0.581949</td><td style=\"text-align: right;\">0.338665</td></tr>\n",
              "<tr><td>DeepLearning_grid__1_AutoML_20201011_150054_model_2</td><td style=\"text-align: right;\">0.628319</td><td style=\"text-align: right;\"> 1.48645 </td><td style=\"text-align: right;\">0.59357 </td><td style=\"text-align: right;\">              0.426503</td><td style=\"text-align: right;\">0.622046</td><td style=\"text-align: right;\">0.386942</td></tr>\n",
              "<tr><td>DeepLearning_grid__3_AutoML_20201011_150054_model_1</td><td style=\"text-align: right;\">0.621579</td><td style=\"text-align: right;\"> 1.30012 </td><td style=\"text-align: right;\">0.585091</td><td style=\"text-align: right;\">              0.434925</td><td style=\"text-align: right;\">0.603202</td><td style=\"text-align: right;\">0.363852</td></tr>\n",
              "<tr><td>DeepLearning_grid__2_AutoML_20201011_150054_model_2</td><td style=\"text-align: right;\">0.608426</td><td style=\"text-align: right;\"> 1.83432 </td><td style=\"text-align: right;\">0.560572</td><td style=\"text-align: right;\">              0.466916</td><td style=\"text-align: right;\">0.620329</td><td style=\"text-align: right;\">0.384808</td></tr>\n",
              "<tr><td>DeepLearning_1_AutoML_20201011_150054              </td><td style=\"text-align: right;\">0.596   </td><td style=\"text-align: right;\"> 0.941433</td><td style=\"text-align: right;\">0.589466</td><td style=\"text-align: right;\">              0.444667</td><td style=\"text-align: right;\">0.575515</td><td style=\"text-align: right;\">0.331217</td></tr>\n",
              "</tbody>\n",
              "</table>"
            ]
          },
          "metadata": {
            "tags": []
          }
        },
        {
          "output_type": "execute_result",
          "data": {
            "text/plain": [
              ""
            ]
          },
          "metadata": {
            "tags": []
          },
          "execution_count": 13
        }
      ]
    },
    {
      "cell_type": "code",
      "metadata": {
        "id": "kNqk9lqv6AtD",
        "outputId": "3ec3ff78-d9ae-47d1-d9c7-be43d32b3191",
        "colab": {
          "base_uri": "https://localhost:8080/",
          "height": 35
        }
      },
      "source": [
        "preds = aml.leader.predict(test)"
      ],
      "execution_count": null,
      "outputs": [
        {
          "output_type": "stream",
          "text": [
            "stackedensemble prediction progress: |████████████████████████████████████| 100%\n"
          ],
          "name": "stdout"
        }
      ]
    },
    {
      "cell_type": "code",
      "metadata": {
        "id": "V_T5fN3BXWAx",
        "outputId": "6d781b97-4fef-4572-f253-f242b7ba37bc",
        "colab": {
          "base_uri": "https://localhost:8080/",
          "height": 247
        }
      },
      "source": [
        "preds"
      ],
      "execution_count": null,
      "outputs": [
        {
          "output_type": "display_data",
          "data": {
            "text/html": [
              "<table>\n",
              "<thead>\n",
              "<tr><th style=\"text-align: right;\">  predict</th><th style=\"text-align: right;\">      p0</th><th style=\"text-align: right;\">       p1</th></tr>\n",
              "</thead>\n",
              "<tbody>\n",
              "<tr><td style=\"text-align: right;\">        0</td><td style=\"text-align: right;\">0.922922</td><td style=\"text-align: right;\">0.0770784</td></tr>\n",
              "<tr><td style=\"text-align: right;\">        1</td><td style=\"text-align: right;\">0.542715</td><td style=\"text-align: right;\">0.457285 </td></tr>\n",
              "<tr><td style=\"text-align: right;\">        1</td><td style=\"text-align: right;\">0.364601</td><td style=\"text-align: right;\">0.635399 </td></tr>\n",
              "<tr><td style=\"text-align: right;\">        0</td><td style=\"text-align: right;\">0.813493</td><td style=\"text-align: right;\">0.186507 </td></tr>\n",
              "<tr><td style=\"text-align: right;\">        1</td><td style=\"text-align: right;\">0.501189</td><td style=\"text-align: right;\">0.498811 </td></tr>\n",
              "<tr><td style=\"text-align: right;\">        0</td><td style=\"text-align: right;\">0.68906 </td><td style=\"text-align: right;\">0.31094  </td></tr>\n",
              "<tr><td style=\"text-align: right;\">        0</td><td style=\"text-align: right;\">0.953141</td><td style=\"text-align: right;\">0.046859 </td></tr>\n",
              "<tr><td style=\"text-align: right;\">        0</td><td style=\"text-align: right;\">0.904302</td><td style=\"text-align: right;\">0.0956983</td></tr>\n",
              "<tr><td style=\"text-align: right;\">        0</td><td style=\"text-align: right;\">0.95927 </td><td style=\"text-align: right;\">0.04073  </td></tr>\n",
              "<tr><td style=\"text-align: right;\">        0</td><td style=\"text-align: right;\">0.977633</td><td style=\"text-align: right;\">0.0223667</td></tr>\n",
              "</tbody>\n",
              "</table>"
            ]
          },
          "metadata": {
            "tags": []
          }
        },
        {
          "output_type": "execute_result",
          "data": {
            "text/plain": [
              ""
            ]
          },
          "metadata": {
            "tags": []
          },
          "execution_count": 16
        }
      ]
    },
    {
      "cell_type": "code",
      "metadata": {
        "id": "x2Ny2NzV6Akw",
        "outputId": "849f37bd-6cec-456b-a2c7-e1221e6b5c43",
        "colab": {
          "base_uri": "https://localhost:8080/",
          "height": 1000
        }
      },
      "source": [
        "perf = aml.leader.model_performance(test)\n",
        "perf"
      ],
      "execution_count": null,
      "outputs": [
        {
          "output_type": "stream",
          "text": [
            "\n",
            "ModelMetricsBinomialGLM: stackedensemble\n",
            "** Reported on test data. **\n",
            "\n",
            "MSE: 0.17971362233004748\n",
            "RMSE: 0.4239264350451001\n",
            "LogLoss: 0.5637444170849557\n",
            "Null degrees of freedom: 20871\n",
            "Residual degrees of freedom: 20869\n",
            "Null deviance: 28934.7359052934\n",
            "Residual deviance: 23532.946946794393\n",
            "AIC: 23538.946946794393\n",
            "AUC: 0.6142453655160185\n",
            "AUCPR: 0.21893098995109248\n",
            "Gini: 0.228490731032037\n",
            "\n",
            "Confusion Matrix (Act/Pred) for max f1 @ threshold = 0.18873942270186322: \n"
          ],
          "name": "stdout"
        },
        {
          "output_type": "display_data",
          "data": {
            "text/html": [
              "<div>\n",
              "<style scoped>\n",
              "    .dataframe tbody tr th:only-of-type {\n",
              "        vertical-align: middle;\n",
              "    }\n",
              "\n",
              "    .dataframe tbody tr th {\n",
              "        vertical-align: top;\n",
              "    }\n",
              "\n",
              "    .dataframe thead th {\n",
              "        text-align: right;\n",
              "    }\n",
              "</style>\n",
              "<table border=\"1\" class=\"dataframe\">\n",
              "  <thead>\n",
              "    <tr style=\"text-align: right;\">\n",
              "      <th></th>\n",
              "      <th></th>\n",
              "      <th>0</th>\n",
              "      <th>1</th>\n",
              "      <th>Error</th>\n",
              "      <th>Rate</th>\n",
              "    </tr>\n",
              "  </thead>\n",
              "  <tbody>\n",
              "    <tr>\n",
              "      <th>0</th>\n",
              "      <td>0</td>\n",
              "      <td>10778.0</td>\n",
              "      <td>6976.0</td>\n",
              "      <td>0.3929</td>\n",
              "      <td>(6976.0/17754.0)</td>\n",
              "    </tr>\n",
              "    <tr>\n",
              "      <th>1</th>\n",
              "      <td>1</td>\n",
              "      <td>1361.0</td>\n",
              "      <td>1757.0</td>\n",
              "      <td>0.4365</td>\n",
              "      <td>(1361.0/3118.0)</td>\n",
              "    </tr>\n",
              "    <tr>\n",
              "      <th>2</th>\n",
              "      <td>Total</td>\n",
              "      <td>12139.0</td>\n",
              "      <td>8733.0</td>\n",
              "      <td>0.3994</td>\n",
              "      <td>(8337.0/20872.0)</td>\n",
              "    </tr>\n",
              "  </tbody>\n",
              "</table>\n",
              "</div>"
            ],
            "text/plain": [
              "                0       1   Error               Rate\n",
              "0      0  10778.0  6976.0  0.3929   (6976.0/17754.0)\n",
              "1      1   1361.0  1757.0  0.4365    (1361.0/3118.0)\n",
              "2  Total  12139.0  8733.0  0.3994   (8337.0/20872.0)"
            ]
          },
          "metadata": {
            "tags": []
          }
        },
        {
          "output_type": "stream",
          "text": [
            "\n",
            "Maximum Metrics: Maximum metrics at their respective thresholds\n"
          ],
          "name": "stdout"
        },
        {
          "output_type": "display_data",
          "data": {
            "text/html": [
              "<div>\n",
              "<style scoped>\n",
              "    .dataframe tbody tr th:only-of-type {\n",
              "        vertical-align: middle;\n",
              "    }\n",
              "\n",
              "    .dataframe tbody tr th {\n",
              "        vertical-align: top;\n",
              "    }\n",
              "\n",
              "    .dataframe thead th {\n",
              "        text-align: right;\n",
              "    }\n",
              "</style>\n",
              "<table border=\"1\" class=\"dataframe\">\n",
              "  <thead>\n",
              "    <tr style=\"text-align: right;\">\n",
              "      <th></th>\n",
              "      <th>metric</th>\n",
              "      <th>threshold</th>\n",
              "      <th>value</th>\n",
              "      <th>idx</th>\n",
              "    </tr>\n",
              "  </thead>\n",
              "  <tbody>\n",
              "    <tr>\n",
              "      <th>0</th>\n",
              "      <td>max f1</td>\n",
              "      <td>0.188739</td>\n",
              "      <td>0.296515</td>\n",
              "      <td>281.0</td>\n",
              "    </tr>\n",
              "    <tr>\n",
              "      <th>1</th>\n",
              "      <td>max f2</td>\n",
              "      <td>0.023516</td>\n",
              "      <td>0.470701</td>\n",
              "      <td>387.0</td>\n",
              "    </tr>\n",
              "    <tr>\n",
              "      <th>2</th>\n",
              "      <td>max f0point5</td>\n",
              "      <td>0.535764</td>\n",
              "      <td>0.256446</td>\n",
              "      <td>142.0</td>\n",
              "    </tr>\n",
              "    <tr>\n",
              "      <th>3</th>\n",
              "      <td>max accuracy</td>\n",
              "      <td>0.975729</td>\n",
              "      <td>0.850565</td>\n",
              "      <td>0.0</td>\n",
              "    </tr>\n",
              "    <tr>\n",
              "      <th>4</th>\n",
              "      <td>max precision</td>\n",
              "      <td>0.975729</td>\n",
              "      <td>0.400000</td>\n",
              "      <td>0.0</td>\n",
              "    </tr>\n",
              "    <tr>\n",
              "      <th>5</th>\n",
              "      <td>max recall</td>\n",
              "      <td>0.010773</td>\n",
              "      <td>1.000000</td>\n",
              "      <td>399.0</td>\n",
              "    </tr>\n",
              "    <tr>\n",
              "      <th>6</th>\n",
              "      <td>max specificity</td>\n",
              "      <td>0.975729</td>\n",
              "      <td>0.999831</td>\n",
              "      <td>0.0</td>\n",
              "    </tr>\n",
              "    <tr>\n",
              "      <th>7</th>\n",
              "      <td>max absolute_mcc</td>\n",
              "      <td>0.382249</td>\n",
              "      <td>0.130889</td>\n",
              "      <td>196.0</td>\n",
              "    </tr>\n",
              "    <tr>\n",
              "      <th>8</th>\n",
              "      <td>max min_per_class_accuracy</td>\n",
              "      <td>0.171244</td>\n",
              "      <td>0.583708</td>\n",
              "      <td>290.0</td>\n",
              "    </tr>\n",
              "    <tr>\n",
              "      <th>9</th>\n",
              "      <td>max mean_per_class_accuracy</td>\n",
              "      <td>0.188739</td>\n",
              "      <td>0.585288</td>\n",
              "      <td>281.0</td>\n",
              "    </tr>\n",
              "    <tr>\n",
              "      <th>10</th>\n",
              "      <td>max tns</td>\n",
              "      <td>0.975729</td>\n",
              "      <td>17751.000000</td>\n",
              "      <td>0.0</td>\n",
              "    </tr>\n",
              "    <tr>\n",
              "      <th>11</th>\n",
              "      <td>max fns</td>\n",
              "      <td>0.975729</td>\n",
              "      <td>3116.000000</td>\n",
              "      <td>0.0</td>\n",
              "    </tr>\n",
              "    <tr>\n",
              "      <th>12</th>\n",
              "      <td>max fps</td>\n",
              "      <td>0.010773</td>\n",
              "      <td>17754.000000</td>\n",
              "      <td>399.0</td>\n",
              "    </tr>\n",
              "    <tr>\n",
              "      <th>13</th>\n",
              "      <td>max tps</td>\n",
              "      <td>0.010773</td>\n",
              "      <td>3118.000000</td>\n",
              "      <td>399.0</td>\n",
              "    </tr>\n",
              "    <tr>\n",
              "      <th>14</th>\n",
              "      <td>max tnr</td>\n",
              "      <td>0.975729</td>\n",
              "      <td>0.999831</td>\n",
              "      <td>0.0</td>\n",
              "    </tr>\n",
              "    <tr>\n",
              "      <th>15</th>\n",
              "      <td>max fnr</td>\n",
              "      <td>0.975729</td>\n",
              "      <td>0.999359</td>\n",
              "      <td>0.0</td>\n",
              "    </tr>\n",
              "    <tr>\n",
              "      <th>16</th>\n",
              "      <td>max fpr</td>\n",
              "      <td>0.010773</td>\n",
              "      <td>1.000000</td>\n",
              "      <td>399.0</td>\n",
              "    </tr>\n",
              "    <tr>\n",
              "      <th>17</th>\n",
              "      <td>max tpr</td>\n",
              "      <td>0.010773</td>\n",
              "      <td>1.000000</td>\n",
              "      <td>399.0</td>\n",
              "    </tr>\n",
              "  </tbody>\n",
              "</table>\n",
              "</div>"
            ],
            "text/plain": [
              "                         metric  threshold         value    idx\n",
              "0                        max f1   0.188739      0.296515  281.0\n",
              "1                        max f2   0.023516      0.470701  387.0\n",
              "2                  max f0point5   0.535764      0.256446  142.0\n",
              "3                  max accuracy   0.975729      0.850565    0.0\n",
              "4                 max precision   0.975729      0.400000    0.0\n",
              "5                    max recall   0.010773      1.000000  399.0\n",
              "6               max specificity   0.975729      0.999831    0.0\n",
              "7              max absolute_mcc   0.382249      0.130889  196.0\n",
              "8    max min_per_class_accuracy   0.171244      0.583708  290.0\n",
              "9   max mean_per_class_accuracy   0.188739      0.585288  281.0\n",
              "10                      max tns   0.975729  17751.000000    0.0\n",
              "11                      max fns   0.975729   3116.000000    0.0\n",
              "12                      max fps   0.010773  17754.000000  399.0\n",
              "13                      max tps   0.010773   3118.000000  399.0\n",
              "14                      max tnr   0.975729      0.999831    0.0\n",
              "15                      max fnr   0.975729      0.999359    0.0\n",
              "16                      max fpr   0.010773      1.000000  399.0\n",
              "17                      max tpr   0.010773      1.000000  399.0"
            ]
          },
          "metadata": {
            "tags": []
          }
        },
        {
          "output_type": "stream",
          "text": [
            "\n",
            "Gains/Lift Table: Avg response rate: 14.94 %, avg score: 25.23 %\n"
          ],
          "name": "stdout"
        },
        {
          "output_type": "display_data",
          "data": {
            "text/html": [
              "<div>\n",
              "<style scoped>\n",
              "    .dataframe tbody tr th:only-of-type {\n",
              "        vertical-align: middle;\n",
              "    }\n",
              "\n",
              "    .dataframe tbody tr th {\n",
              "        vertical-align: top;\n",
              "    }\n",
              "\n",
              "    .dataframe thead th {\n",
              "        text-align: right;\n",
              "    }\n",
              "</style>\n",
              "<table border=\"1\" class=\"dataframe\">\n",
              "  <thead>\n",
              "    <tr style=\"text-align: right;\">\n",
              "      <th></th>\n",
              "      <th>group</th>\n",
              "      <th>cumulative_data_fraction</th>\n",
              "      <th>lower_threshold</th>\n",
              "      <th>lift</th>\n",
              "      <th>cumulative_lift</th>\n",
              "      <th>response_rate</th>\n",
              "      <th>score</th>\n",
              "      <th>cumulative_response_rate</th>\n",
              "      <th>cumulative_score</th>\n",
              "      <th>capture_rate</th>\n",
              "      <th>cumulative_capture_rate</th>\n",
              "      <th>gain</th>\n",
              "      <th>cumulative_gain</th>\n",
              "      <th>kolmogorov_smirnov</th>\n",
              "    </tr>\n",
              "  </thead>\n",
              "  <tbody>\n",
              "    <tr>\n",
              "      <th>0</th>\n",
              "      <td>1</td>\n",
              "      <td>0.010013</td>\n",
              "      <td>0.937127</td>\n",
              "      <td>2.242021</td>\n",
              "      <td>2.242021</td>\n",
              "      <td>0.334928</td>\n",
              "      <td>0.952382</td>\n",
              "      <td>0.334928</td>\n",
              "      <td>0.952382</td>\n",
              "      <td>0.022450</td>\n",
              "      <td>0.022450</td>\n",
              "      <td>124.202117</td>\n",
              "      <td>124.202117</td>\n",
              "      <td>0.014621</td>\n",
              "    </tr>\n",
              "    <tr>\n",
              "      <th>1</th>\n",
              "      <td>2</td>\n",
              "      <td>0.020027</td>\n",
              "      <td>0.911254</td>\n",
              "      <td>1.889704</td>\n",
              "      <td>2.065862</td>\n",
              "      <td>0.282297</td>\n",
              "      <td>0.923269</td>\n",
              "      <td>0.308612</td>\n",
              "      <td>0.937825</td>\n",
              "      <td>0.018922</td>\n",
              "      <td>0.041373</td>\n",
              "      <td>88.970356</td>\n",
              "      <td>106.586236</td>\n",
              "      <td>0.025095</td>\n",
              "    </tr>\n",
              "    <tr>\n",
              "      <th>2</th>\n",
              "      <td>3</td>\n",
              "      <td>0.030040</td>\n",
              "      <td>0.888339</td>\n",
              "      <td>1.665501</td>\n",
              "      <td>1.932409</td>\n",
              "      <td>0.248804</td>\n",
              "      <td>0.899576</td>\n",
              "      <td>0.288676</td>\n",
              "      <td>0.925075</td>\n",
              "      <td>0.016677</td>\n",
              "      <td>0.058050</td>\n",
              "      <td>66.550144</td>\n",
              "      <td>93.240872</td>\n",
              "      <td>0.032929</td>\n",
              "    </tr>\n",
              "    <tr>\n",
              "      <th>3</th>\n",
              "      <td>4</td>\n",
              "      <td>0.040006</td>\n",
              "      <td>0.865275</td>\n",
              "      <td>2.156252</td>\n",
              "      <td>1.988168</td>\n",
              "      <td>0.322115</td>\n",
              "      <td>0.876470</td>\n",
              "      <td>0.297006</td>\n",
              "      <td>0.912968</td>\n",
              "      <td>0.021488</td>\n",
              "      <td>0.079538</td>\n",
              "      <td>115.625154</td>\n",
              "      <td>98.816837</td>\n",
              "      <td>0.046475</td>\n",
              "    </tr>\n",
              "    <tr>\n",
              "      <th>4</th>\n",
              "      <td>5</td>\n",
              "      <td>0.050019</td>\n",
              "      <td>0.840844</td>\n",
              "      <td>2.081877</td>\n",
              "      <td>2.006928</td>\n",
              "      <td>0.311005</td>\n",
              "      <td>0.853516</td>\n",
              "      <td>0.299808</td>\n",
              "      <td>0.901066</td>\n",
              "      <td>0.020847</td>\n",
              "      <td>0.100385</td>\n",
              "      <td>108.187680</td>\n",
              "      <td>100.692801</td>\n",
              "      <td>0.059211</td>\n",
              "    </tr>\n",
              "    <tr>\n",
              "      <th>5</th>\n",
              "      <td>6</td>\n",
              "      <td>0.100038</td>\n",
              "      <td>0.717591</td>\n",
              "      <td>1.711980</td>\n",
              "      <td>1.859454</td>\n",
              "      <td>0.255747</td>\n",
              "      <td>0.780068</td>\n",
              "      <td>0.277778</td>\n",
              "      <td>0.840567</td>\n",
              "      <td>0.085632</td>\n",
              "      <td>0.186017</td>\n",
              "      <td>71.198012</td>\n",
              "      <td>85.945407</td>\n",
              "      <td>0.101078</td>\n",
              "    </tr>\n",
              "    <tr>\n",
              "      <th>6</th>\n",
              "      <td>7</td>\n",
              "      <td>0.150010</td>\n",
              "      <td>0.592908</td>\n",
              "      <td>1.360628</td>\n",
              "      <td>1.693285</td>\n",
              "      <td>0.203260</td>\n",
              "      <td>0.652271</td>\n",
              "      <td>0.252954</td>\n",
              "      <td>0.777842</td>\n",
              "      <td>0.067992</td>\n",
              "      <td>0.254009</td>\n",
              "      <td>36.062833</td>\n",
              "      <td>69.328503</td>\n",
              "      <td>0.122264</td>\n",
              "    </tr>\n",
              "    <tr>\n",
              "      <th>7</th>\n",
              "      <td>8</td>\n",
              "      <td>0.200029</td>\n",
              "      <td>0.486523</td>\n",
              "      <td>1.314442</td>\n",
              "      <td>1.598552</td>\n",
              "      <td>0.196360</td>\n",
              "      <td>0.538719</td>\n",
              "      <td>0.238802</td>\n",
              "      <td>0.718047</td>\n",
              "      <td>0.065747</td>\n",
              "      <td>0.319756</td>\n",
              "      <td>31.444167</td>\n",
              "      <td>59.855151</td>\n",
              "      <td>0.140754</td>\n",
              "    </tr>\n",
              "    <tr>\n",
              "      <th>8</th>\n",
              "      <td>9</td>\n",
              "      <td>0.300019</td>\n",
              "      <td>0.313651</td>\n",
              "      <td>1.189979</td>\n",
              "      <td>1.462383</td>\n",
              "      <td>0.177767</td>\n",
              "      <td>0.393755</td>\n",
              "      <td>0.218461</td>\n",
              "      <td>0.609967</td>\n",
              "      <td>0.118987</td>\n",
              "      <td>0.438743</td>\n",
              "      <td>18.997932</td>\n",
              "      <td>46.238253</td>\n",
              "      <td>0.163087</td>\n",
              "    </tr>\n",
              "    <tr>\n",
              "      <th>9</th>\n",
              "      <td>10</td>\n",
              "      <td>0.400010</td>\n",
              "      <td>0.204716</td>\n",
              "      <td>1.042435</td>\n",
              "      <td>1.357408</td>\n",
              "      <td>0.155726</td>\n",
              "      <td>0.256179</td>\n",
              "      <td>0.202779</td>\n",
              "      <td>0.521530</td>\n",
              "      <td>0.104233</td>\n",
              "      <td>0.542976</td>\n",
              "      <td>4.243472</td>\n",
              "      <td>35.740815</td>\n",
              "      <td>0.168075</td>\n",
              "    </tr>\n",
              "    <tr>\n",
              "      <th>10</th>\n",
              "      <td>11</td>\n",
              "      <td>0.500000</td>\n",
              "      <td>0.132289</td>\n",
              "      <td>0.975077</td>\n",
              "      <td>1.280949</td>\n",
              "      <td>0.145664</td>\n",
              "      <td>0.164276</td>\n",
              "      <td>0.191357</td>\n",
              "      <td>0.450086</td>\n",
              "      <td>0.097498</td>\n",
              "      <td>0.640475</td>\n",
              "      <td>-2.492260</td>\n",
              "      <td>28.094933</td>\n",
              "      <td>0.165145</td>\n",
              "    </tr>\n",
              "    <tr>\n",
              "      <th>11</th>\n",
              "      <td>12</td>\n",
              "      <td>0.599990</td>\n",
              "      <td>0.087543</td>\n",
              "      <td>0.821118</td>\n",
              "      <td>1.204317</td>\n",
              "      <td>0.122664</td>\n",
              "      <td>0.107904</td>\n",
              "      <td>0.179909</td>\n",
              "      <td>0.393061</td>\n",
              "      <td>0.082104</td>\n",
              "      <td>0.722579</td>\n",
              "      <td>-17.888219</td>\n",
              "      <td>20.431686</td>\n",
              "      <td>0.144117</td>\n",
              "    </tr>\n",
              "    <tr>\n",
              "      <th>12</th>\n",
              "      <td>13</td>\n",
              "      <td>0.699981</td>\n",
              "      <td>0.056952</td>\n",
              "      <td>0.769798</td>\n",
              "      <td>1.142247</td>\n",
              "      <td>0.114998</td>\n",
              "      <td>0.071440</td>\n",
              "      <td>0.170637</td>\n",
              "      <td>0.347118</td>\n",
              "      <td>0.076972</td>\n",
              "      <td>0.799551</td>\n",
              "      <td>-23.020205</td>\n",
              "      <td>14.224698</td>\n",
              "      <td>0.117057</td>\n",
              "    </tr>\n",
              "    <tr>\n",
              "      <th>13</th>\n",
              "      <td>14</td>\n",
              "      <td>0.799971</td>\n",
              "      <td>0.037421</td>\n",
              "      <td>0.737723</td>\n",
              "      <td>1.091685</td>\n",
              "      <td>0.110206</td>\n",
              "      <td>0.047098</td>\n",
              "      <td>0.163083</td>\n",
              "      <td>0.309618</td>\n",
              "      <td>0.073765</td>\n",
              "      <td>0.873316</td>\n",
              "      <td>-26.227697</td>\n",
              "      <td>9.168451</td>\n",
              "      <td>0.086226</td>\n",
              "    </tr>\n",
              "    <tr>\n",
              "      <th>14</th>\n",
              "      <td>15</td>\n",
              "      <td>0.899962</td>\n",
              "      <td>0.022702</td>\n",
              "      <td>0.699233</td>\n",
              "      <td>1.048081</td>\n",
              "      <td>0.104456</td>\n",
              "      <td>0.029820</td>\n",
              "      <td>0.156569</td>\n",
              "      <td>0.278531</td>\n",
              "      <td>0.069917</td>\n",
              "      <td>0.943233</td>\n",
              "      <td>-30.076687</td>\n",
              "      <td>4.808113</td>\n",
              "      <td>0.050871</td>\n",
              "    </tr>\n",
              "    <tr>\n",
              "      <th>15</th>\n",
              "      <td>16</td>\n",
              "      <td>1.000000</td>\n",
              "      <td>0.010644</td>\n",
              "      <td>0.567454</td>\n",
              "      <td>1.000000</td>\n",
              "      <td>0.084770</td>\n",
              "      <td>0.016707</td>\n",
              "      <td>0.149387</td>\n",
              "      <td>0.252338</td>\n",
              "      <td>0.056767</td>\n",
              "      <td>1.000000</td>\n",
              "      <td>-43.254591</td>\n",
              "      <td>0.000000</td>\n",
              "      <td>0.000000</td>\n",
              "    </tr>\n",
              "  </tbody>\n",
              "</table>\n",
              "</div>"
            ],
            "text/plain": [
              "    group  cumulative_data_fraction  ...  cumulative_gain  kolmogorov_smirnov\n",
              "0       1                  0.010013  ...       124.202117            0.014621\n",
              "1       2                  0.020027  ...       106.586236            0.025095\n",
              "2       3                  0.030040  ...        93.240872            0.032929\n",
              "3       4                  0.040006  ...        98.816837            0.046475\n",
              "4       5                  0.050019  ...       100.692801            0.059211\n",
              "5       6                  0.100038  ...        85.945407            0.101078\n",
              "6       7                  0.150010  ...        69.328503            0.122264\n",
              "7       8                  0.200029  ...        59.855151            0.140754\n",
              "8       9                  0.300019  ...        46.238253            0.163087\n",
              "9      10                  0.400010  ...        35.740815            0.168075\n",
              "10     11                  0.500000  ...        28.094933            0.165145\n",
              "11     12                  0.599990  ...        20.431686            0.144117\n",
              "12     13                  0.699981  ...        14.224698            0.117057\n",
              "13     14                  0.799971  ...         9.168451            0.086226\n",
              "14     15                  0.899962  ...         4.808113            0.050871\n",
              "15     16                  1.000000  ...         0.000000            0.000000\n",
              "\n",
              "[16 rows x 14 columns]"
            ]
          },
          "metadata": {
            "tags": []
          }
        },
        {
          "output_type": "stream",
          "text": [
            "\n"
          ],
          "name": "stdout"
        },
        {
          "output_type": "execute_result",
          "data": {
            "text/plain": [
              ""
            ]
          },
          "metadata": {
            "tags": []
          },
          "execution_count": 15
        }
      ]
    },
    {
      "cell_type": "code",
      "metadata": {
        "id": "l4CWdri6SnkY"
      },
      "source": [
        ""
      ],
      "execution_count": null,
      "outputs": []
    },
    {
      "cell_type": "code",
      "metadata": {
        "id": "9u77f7rYSngZ"
      },
      "source": [
        ""
      ],
      "execution_count": null,
      "outputs": []
    },
    {
      "cell_type": "code",
      "metadata": {
        "id": "SMQaPd8cSnau"
      },
      "source": [
        ""
      ],
      "execution_count": null,
      "outputs": []
    },
    {
      "cell_type": "code",
      "metadata": {
        "id": "JLG8DWJ16AQG"
      },
      "source": [
        ""
      ],
      "execution_count": null,
      "outputs": []
    },
    {
      "cell_type": "code",
      "metadata": {
        "id": "mgbVPzCj6AOi",
        "outputId": "b3e78bfd-146e-4d74-937e-a35eba5a0e2b",
        "colab": {
          "base_uri": "https://localhost:8080/",
          "height": 69
        }
      },
      "source": [
        "train  = h2o.import_file('/content/drive/My Drive/Case_Competition/Humana_2020/pca_seen_data.csv')\n",
        "test = h2o.import_file('/content/drive/My Drive/Case_Competition/Humana_2020/pca_unseen_data.csv')\n",
        "final_test = h2o.import_file('/content/drive/My Drive/Case_Competition/Humana_2020/pca_test.csv')"
      ],
      "execution_count": null,
      "outputs": [
        {
          "output_type": "stream",
          "text": [
            "Parse progress: |█████████████████████████████████████████████████████████| 100%\n",
            "Parse progress: |█████████████████████████████████████████████████████████| 100%\n",
            "Parse progress: |█████████████████████████████████████████████████████████| 100%\n"
          ],
          "name": "stdout"
        }
      ]
    },
    {
      "cell_type": "code",
      "metadata": {
        "id": "IpW88J2v6AH4"
      },
      "source": [
        "# Identify predictors and response\n",
        "x = train.columns\n",
        "y = \"transportation_issues\"\n",
        "x.remove(y)\n",
        "\n",
        "# For binary classification, response should be a factor\n",
        "train[y] = train[y].asfactor()\n",
        "test[y] = test[y].asfactor()"
      ],
      "execution_count": null,
      "outputs": []
    },
    {
      "cell_type": "code",
      "metadata": {
        "id": "wgzDIpfu_yky",
        "outputId": "4bab377d-d2e0-4026-d0bd-9dbb3a73e9f6",
        "colab": {
          "base_uri": "https://localhost:8080/",
          "height": 35
        }
      },
      "source": [
        "# Run AutoML for 20 base models (limited to 1 hour max runtime by default)\n",
        "aml = H2OAutoML(max_runtime_secs=1800, seed=1, balance_classes=True, keep_cross_validation_fold_assignment=True)\n",
        "aml.train(x=x, y=y, training_frame=train)"
      ],
      "execution_count": null,
      "outputs": [
        {
          "output_type": "stream",
          "text": [
            "AutoML progress: |████████████████████████████████████████████████████████| 100%\n"
          ],
          "name": "stdout"
        }
      ]
    },
    {
      "cell_type": "code",
      "metadata": {
        "id": "HupqHJ9L_y0f",
        "outputId": "73089311-6851-49f2-c7cb-a1617a17d85f",
        "colab": {
          "base_uri": "https://localhost:8080/",
          "height": 929
        }
      },
      "source": [
        "# View the AutoML Leaderboard\n",
        "lb = aml.leaderboard\n",
        "lb.head(rows=lb.nrows)  # Print all rows instead of default (10 rows)"
      ],
      "execution_count": null,
      "outputs": [
        {
          "output_type": "display_data",
          "data": {
            "text/html": [
              "<table>\n",
              "<thead>\n",
              "<tr><th>model_id                                           </th><th style=\"text-align: right;\">     auc</th><th style=\"text-align: right;\">  logloss</th><th style=\"text-align: right;\">   aucpr</th><th style=\"text-align: right;\">  mean_per_class_error</th><th style=\"text-align: right;\">    rmse</th><th style=\"text-align: right;\">     mse</th></tr>\n",
              "</thead>\n",
              "<tbody>\n",
              "<tr><td>StackedEnsemble_AllModels_AutoML_20201011_164413   </td><td style=\"text-align: right;\">0.678388</td><td style=\"text-align: right;\"> 0.390027</td><td style=\"text-align: right;\">0.261955</td><td style=\"text-align: right;\">              0.370938</td><td style=\"text-align: right;\">0.343072</td><td style=\"text-align: right;\">0.117698</td></tr>\n",
              "<tr><td>StackedEnsemble_BestOfFamily_AutoML_20201011_164413</td><td style=\"text-align: right;\">0.677083</td><td style=\"text-align: right;\"> 0.390423</td><td style=\"text-align: right;\">0.259415</td><td style=\"text-align: right;\">              0.370745</td><td style=\"text-align: right;\">0.343267</td><td style=\"text-align: right;\">0.117832</td></tr>\n",
              "<tr><td>DeepLearning_grid__3_AutoML_20201011_164413_model_1</td><td style=\"text-align: right;\">0.672398</td><td style=\"text-align: right;\"> 0.391619</td><td style=\"text-align: right;\">0.253898</td><td style=\"text-align: right;\">              0.369875</td><td style=\"text-align: right;\">0.343789</td><td style=\"text-align: right;\">0.118191</td></tr>\n",
              "<tr><td>GBM_grid__1_AutoML_20201011_164413_model_1         </td><td style=\"text-align: right;\">0.671764</td><td style=\"text-align: right;\"> 0.391775</td><td style=\"text-align: right;\">0.253548</td><td style=\"text-align: right;\">              0.372044</td><td style=\"text-align: right;\">0.343834</td><td style=\"text-align: right;\">0.118222</td></tr>\n",
              "<tr><td>GBM_grid__1_AutoML_20201011_164413_model_10        </td><td style=\"text-align: right;\">0.671068</td><td style=\"text-align: right;\"> 0.391642</td><td style=\"text-align: right;\">0.252427</td><td style=\"text-align: right;\">              0.372751</td><td style=\"text-align: right;\">0.343769</td><td style=\"text-align: right;\">0.118177</td></tr>\n",
              "<tr><td>DeepLearning_grid__2_AutoML_20201011_164413_model_1</td><td style=\"text-align: right;\">0.671007</td><td style=\"text-align: right;\"> 0.392587</td><td style=\"text-align: right;\">0.251988</td><td style=\"text-align: right;\">              0.370776</td><td style=\"text-align: right;\">0.344322</td><td style=\"text-align: right;\">0.118557</td></tr>\n",
              "<tr><td>GBM_grid__1_AutoML_20201011_164413_model_7         </td><td style=\"text-align: right;\">0.670945</td><td style=\"text-align: right;\"> 0.391643</td><td style=\"text-align: right;\">0.252699</td><td style=\"text-align: right;\">              0.374391</td><td style=\"text-align: right;\">0.343762</td><td style=\"text-align: right;\">0.118172</td></tr>\n",
              "<tr><td>GBM_grid__1_AutoML_20201011_164413_model_8         </td><td style=\"text-align: right;\">0.670219</td><td style=\"text-align: right;\"> 0.39192 </td><td style=\"text-align: right;\">0.251195</td><td style=\"text-align: right;\">              0.372344</td><td style=\"text-align: right;\">0.343904</td><td style=\"text-align: right;\">0.11827 </td></tr>\n",
              "<tr><td>XGBoost_grid__1_AutoML_20201011_164413_model_11    </td><td style=\"text-align: right;\">0.669835</td><td style=\"text-align: right;\"> 0.392264</td><td style=\"text-align: right;\">0.25115 </td><td style=\"text-align: right;\">              0.37091 </td><td style=\"text-align: right;\">0.344087</td><td style=\"text-align: right;\">0.118396</td></tr>\n",
              "<tr><td>GLM_1_AutoML_20201011_164413                       </td><td style=\"text-align: right;\">0.669118</td><td style=\"text-align: right;\"> 0.392546</td><td style=\"text-align: right;\">0.249075</td><td style=\"text-align: right;\">              0.371745</td><td style=\"text-align: right;\">0.344239</td><td style=\"text-align: right;\">0.118501</td></tr>\n",
              "<tr><td>DeepLearning_1_AutoML_20201011_164413              </td><td style=\"text-align: right;\">0.666811</td><td style=\"text-align: right;\"> 0.393585</td><td style=\"text-align: right;\">0.244374</td><td style=\"text-align: right;\">              0.375402</td><td style=\"text-align: right;\">0.344802</td><td style=\"text-align: right;\">0.118888</td></tr>\n",
              "<tr><td>GBM_grid__1_AutoML_20201011_164413_model_3         </td><td style=\"text-align: right;\">0.666391</td><td style=\"text-align: right;\"> 0.393216</td><td style=\"text-align: right;\">0.249927</td><td style=\"text-align: right;\">              0.377724</td><td style=\"text-align: right;\">0.344179</td><td style=\"text-align: right;\">0.118459</td></tr>\n",
              "<tr><td>XGBoost_grid__1_AutoML_20201011_164413_model_10    </td><td style=\"text-align: right;\">0.665913</td><td style=\"text-align: right;\"> 0.394262</td><td style=\"text-align: right;\">0.248596</td><td style=\"text-align: right;\">              0.374532</td><td style=\"text-align: right;\">0.345001</td><td style=\"text-align: right;\">0.119025</td></tr>\n",
              "<tr><td>GBM_1_AutoML_20201011_164413                       </td><td style=\"text-align: right;\">0.665346</td><td style=\"text-align: right;\"> 0.393304</td><td style=\"text-align: right;\">0.247955</td><td style=\"text-align: right;\">              0.37974 </td><td style=\"text-align: right;\">0.344345</td><td style=\"text-align: right;\">0.118574</td></tr>\n",
              "<tr><td>XGBoost_grid__1_AutoML_20201011_164413_model_12    </td><td style=\"text-align: right;\">0.665163</td><td style=\"text-align: right;\"> 0.394942</td><td style=\"text-align: right;\">0.2474  </td><td style=\"text-align: right;\">              0.375476</td><td style=\"text-align: right;\">0.345262</td><td style=\"text-align: right;\">0.119206</td></tr>\n",
              "<tr><td>XGBoost_grid__1_AutoML_20201011_164413_model_2     </td><td style=\"text-align: right;\">0.664459</td><td style=\"text-align: right;\"> 0.394505</td><td style=\"text-align: right;\">0.246297</td><td style=\"text-align: right;\">              0.377784</td><td style=\"text-align: right;\">0.345109</td><td style=\"text-align: right;\">0.1191  </td></tr>\n",
              "<tr><td>XGBoost_3_AutoML_20201011_164413                   </td><td style=\"text-align: right;\">0.664455</td><td style=\"text-align: right;\"> 0.395032</td><td style=\"text-align: right;\">0.245035</td><td style=\"text-align: right;\">              0.37473 </td><td style=\"text-align: right;\">0.345499</td><td style=\"text-align: right;\">0.119369</td></tr>\n",
              "<tr><td>XGBoost_grid__1_AutoML_20201011_164413_model_5     </td><td style=\"text-align: right;\">0.664437</td><td style=\"text-align: right;\"> 0.395019</td><td style=\"text-align: right;\">0.248672</td><td style=\"text-align: right;\">              0.375902</td><td style=\"text-align: right;\">0.345187</td><td style=\"text-align: right;\">0.119154</td></tr>\n",
              "<tr><td>XGBoost_grid__1_AutoML_20201011_164413_model_6     </td><td style=\"text-align: right;\">0.663907</td><td style=\"text-align: right;\"> 0.394494</td><td style=\"text-align: right;\">0.248361</td><td style=\"text-align: right;\">              0.3797  </td><td style=\"text-align: right;\">0.344956</td><td style=\"text-align: right;\">0.118994</td></tr>\n",
              "<tr><td>GBM_grid__1_AutoML_20201011_164413_model_11        </td><td style=\"text-align: right;\">0.663127</td><td style=\"text-align: right;\"> 0.394511</td><td style=\"text-align: right;\">0.24461 </td><td style=\"text-align: right;\">              0.374935</td><td style=\"text-align: right;\">0.344861</td><td style=\"text-align: right;\">0.118929</td></tr>\n",
              "<tr><td>DeepLearning_grid__1_AutoML_20201011_164413_model_1</td><td style=\"text-align: right;\">0.663072</td><td style=\"text-align: right;\"> 0.396024</td><td style=\"text-align: right;\">0.244776</td><td style=\"text-align: right;\">              0.376331</td><td style=\"text-align: right;\">0.345724</td><td style=\"text-align: right;\">0.119525</td></tr>\n",
              "<tr><td>DeepLearning_grid__2_AutoML_20201011_164413_model_2</td><td style=\"text-align: right;\">0.662267</td><td style=\"text-align: right;\"> 0.402267</td><td style=\"text-align: right;\">0.244895</td><td style=\"text-align: right;\">              0.378864</td><td style=\"text-align: right;\">0.349654</td><td style=\"text-align: right;\">0.122258</td></tr>\n",
              "<tr><td>GBM_2_AutoML_20201011_164413                       </td><td style=\"text-align: right;\">0.662136</td><td style=\"text-align: right;\"> 0.394445</td><td style=\"text-align: right;\">0.246628</td><td style=\"text-align: right;\">              0.381312</td><td style=\"text-align: right;\">0.344726</td><td style=\"text-align: right;\">0.118836</td></tr>\n",
              "<tr><td>XGBoost_grid__1_AutoML_20201011_164413_model_7     </td><td style=\"text-align: right;\">0.660272</td><td style=\"text-align: right;\"> 0.397915</td><td style=\"text-align: right;\">0.237185</td><td style=\"text-align: right;\">              0.378758</td><td style=\"text-align: right;\">0.347051</td><td style=\"text-align: right;\">0.120444</td></tr>\n",
              "<tr><td>GBM_3_AutoML_20201011_164413                       </td><td style=\"text-align: right;\">0.659238</td><td style=\"text-align: right;\"> 0.396223</td><td style=\"text-align: right;\">0.244649</td><td style=\"text-align: right;\">              0.380808</td><td style=\"text-align: right;\">0.345216</td><td style=\"text-align: right;\">0.119174</td></tr>\n",
              "<tr><td>GBM_grid__1_AutoML_20201011_164413_model_2         </td><td style=\"text-align: right;\">0.657433</td><td style=\"text-align: right;\"> 0.39662 </td><td style=\"text-align: right;\">0.242075</td><td style=\"text-align: right;\">              0.383762</td><td style=\"text-align: right;\">0.345488</td><td style=\"text-align: right;\">0.119362</td></tr>\n",
              "<tr><td>XGBoost_grid__1_AutoML_20201011_164413_model_1     </td><td style=\"text-align: right;\">0.65681 </td><td style=\"text-align: right;\"> 0.40086 </td><td style=\"text-align: right;\">0.230865</td><td style=\"text-align: right;\">              0.382601</td><td style=\"text-align: right;\">0.348684</td><td style=\"text-align: right;\">0.121581</td></tr>\n",
              "<tr><td>GBM_5_AutoML_20201011_164413                       </td><td style=\"text-align: right;\">0.656336</td><td style=\"text-align: right;\"> 0.400237</td><td style=\"text-align: right;\">0.240795</td><td style=\"text-align: right;\">              0.382883</td><td style=\"text-align: right;\">0.346254</td><td style=\"text-align: right;\">0.119892</td></tr>\n",
              "<tr><td>GBM_grid__1_AutoML_20201011_164413_model_9         </td><td style=\"text-align: right;\">0.65516 </td><td style=\"text-align: right;\"> 0.397032</td><td style=\"text-align: right;\">0.241917</td><td style=\"text-align: right;\">              0.38257 </td><td style=\"text-align: right;\">0.345531</td><td style=\"text-align: right;\">0.119392</td></tr>\n",
              "<tr><td>DeepLearning_grid__1_AutoML_20201011_164413_model_2</td><td style=\"text-align: right;\">0.653764</td><td style=\"text-align: right;\"> 0.429563</td><td style=\"text-align: right;\">0.237977</td><td style=\"text-align: right;\">              0.38495 </td><td style=\"text-align: right;\">0.360648</td><td style=\"text-align: right;\">0.130067</td></tr>\n",
              "<tr><td>DeepLearning_grid__3_AutoML_20201011_164413_model_2</td><td style=\"text-align: right;\">0.649208</td><td style=\"text-align: right;\"> 0.401915</td><td style=\"text-align: right;\">0.226915</td><td style=\"text-align: right;\">              0.383374</td><td style=\"text-align: right;\">0.348659</td><td style=\"text-align: right;\">0.121563</td></tr>\n",
              "<tr><td>GBM_4_AutoML_20201011_164413                       </td><td style=\"text-align: right;\">0.645995</td><td style=\"text-align: right;\"> 0.403161</td><td style=\"text-align: right;\">0.234901</td><td style=\"text-align: right;\">              0.389632</td><td style=\"text-align: right;\">0.3472  </td><td style=\"text-align: right;\">0.120548</td></tr>\n",
              "<tr><td>XGBoost_grid__1_AutoML_20201011_164413_model_8     </td><td style=\"text-align: right;\">0.642651</td><td style=\"text-align: right;\"> 0.409537</td><td style=\"text-align: right;\">0.228107</td><td style=\"text-align: right;\">              0.392847</td><td style=\"text-align: right;\">0.350612</td><td style=\"text-align: right;\">0.122929</td></tr>\n",
              "<tr><td>GBM_grid__1_AutoML_20201011_164413_model_4         </td><td style=\"text-align: right;\">0.64172 </td><td style=\"text-align: right;\"> 0.41213 </td><td style=\"text-align: right;\">0.232259</td><td style=\"text-align: right;\">              0.39698 </td><td style=\"text-align: right;\">0.348951</td><td style=\"text-align: right;\">0.121767</td></tr>\n",
              "<tr><td>GBM_grid__1_AutoML_20201011_164413_model_5         </td><td style=\"text-align: right;\">0.63721 </td><td style=\"text-align: right;\"> 0.41977 </td><td style=\"text-align: right;\">0.228272</td><td style=\"text-align: right;\">              0.399388</td><td style=\"text-align: right;\">0.350614</td><td style=\"text-align: right;\">0.12293 </td></tr>\n",
              "<tr><td>GBM_grid__1_AutoML_20201011_164413_model_6         </td><td style=\"text-align: right;\">0.637148</td><td style=\"text-align: right;\"> 0.411333</td><td style=\"text-align: right;\">0.23028 </td><td style=\"text-align: right;\">              0.394281</td><td style=\"text-align: right;\">0.349111</td><td style=\"text-align: right;\">0.121879</td></tr>\n",
              "<tr><td>XGBoost_grid__1_AutoML_20201011_164413_model_4     </td><td style=\"text-align: right;\">0.636072</td><td style=\"text-align: right;\"> 0.416906</td><td style=\"text-align: right;\">0.220183</td><td style=\"text-align: right;\">              0.395142</td><td style=\"text-align: right;\">0.354111</td><td style=\"text-align: right;\">0.125395</td></tr>\n",
              "<tr><td>XGBoost_1_AutoML_20201011_164413                   </td><td style=\"text-align: right;\">0.631637</td><td style=\"text-align: right;\"> 0.418409</td><td style=\"text-align: right;\">0.220883</td><td style=\"text-align: right;\">              0.402872</td><td style=\"text-align: right;\">0.354506</td><td style=\"text-align: right;\">0.125674</td></tr>\n",
              "<tr><td>XGBoost_grid__1_AutoML_20201011_164413_model_9     </td><td style=\"text-align: right;\">0.63145 </td><td style=\"text-align: right;\"> 0.422889</td><td style=\"text-align: right;\">0.22333 </td><td style=\"text-align: right;\">              0.401854</td><td style=\"text-align: right;\">0.353952</td><td style=\"text-align: right;\">0.125282</td></tr>\n",
              "<tr><td>XGBoost_grid__1_AutoML_20201011_164413_model_3     </td><td style=\"text-align: right;\">0.630251</td><td style=\"text-align: right;\"> 0.419219</td><td style=\"text-align: right;\">0.224365</td><td style=\"text-align: right;\">              0.399711</td><td style=\"text-align: right;\">0.354329</td><td style=\"text-align: right;\">0.125549</td></tr>\n",
              "<tr><td>DRF_1_AutoML_20201011_164413                       </td><td style=\"text-align: right;\">0.624156</td><td style=\"text-align: right;\"> 0.451044</td><td style=\"text-align: right;\">0.216318</td><td style=\"text-align: right;\">              0.407618</td><td style=\"text-align: right;\">0.356179</td><td style=\"text-align: right;\">0.126863</td></tr>\n",
              "<tr><td>XGBoost_2_AutoML_20201011_164413                   </td><td style=\"text-align: right;\">0.621308</td><td style=\"text-align: right;\"> 0.430047</td><td style=\"text-align: right;\">0.216635</td><td style=\"text-align: right;\">              0.409793</td><td style=\"text-align: right;\">0.357639</td><td style=\"text-align: right;\">0.127905</td></tr>\n",
              "<tr><td>XRT_1_AutoML_20201011_164413                       </td><td style=\"text-align: right;\">0.620558</td><td style=\"text-align: right;\"> 0.450835</td><td style=\"text-align: right;\">0.216852</td><td style=\"text-align: right;\">              0.409335</td><td style=\"text-align: right;\">0.355871</td><td style=\"text-align: right;\">0.126644</td></tr>\n",
              "</tbody>\n",
              "</table>"
            ]
          },
          "metadata": {
            "tags": []
          }
        },
        {
          "output_type": "execute_result",
          "data": {
            "text/plain": [
              ""
            ]
          },
          "metadata": {
            "tags": []
          },
          "execution_count": 20
        }
      ]
    },
    {
      "cell_type": "code",
      "metadata": {
        "id": "9hDBn0iy_y-H",
        "outputId": "bcec1f4c-c5a2-4d29-d894-ccbdc40eef73",
        "colab": {
          "base_uri": "https://localhost:8080/",
          "height": 264
        }
      },
      "source": [
        "preds = aml.leader.predict(test)\n",
        "preds"
      ],
      "execution_count": null,
      "outputs": [
        {
          "output_type": "stream",
          "text": [
            "stackedensemble prediction progress: |████████████████████████████████████| 100%\n"
          ],
          "name": "stdout"
        },
        {
          "output_type": "display_data",
          "data": {
            "text/html": [
              "<table>\n",
              "<thead>\n",
              "<tr><th style=\"text-align: right;\">  predict</th><th style=\"text-align: right;\">      p0</th><th style=\"text-align: right;\">      p1</th></tr>\n",
              "</thead>\n",
              "<tbody>\n",
              "<tr><td style=\"text-align: right;\">        0</td><td style=\"text-align: right;\">0.888166</td><td style=\"text-align: right;\">0.111834</td></tr>\n",
              "<tr><td style=\"text-align: right;\">        1</td><td style=\"text-align: right;\">0.806768</td><td style=\"text-align: right;\">0.193232</td></tr>\n",
              "<tr><td style=\"text-align: right;\">        1</td><td style=\"text-align: right;\">0.762365</td><td style=\"text-align: right;\">0.237635</td></tr>\n",
              "<tr><td style=\"text-align: right;\">        0</td><td style=\"text-align: right;\">0.890248</td><td style=\"text-align: right;\">0.109752</td></tr>\n",
              "<tr><td style=\"text-align: right;\">        0</td><td style=\"text-align: right;\">0.885301</td><td style=\"text-align: right;\">0.114699</td></tr>\n",
              "<tr><td style=\"text-align: right;\">        0</td><td style=\"text-align: right;\">0.884034</td><td style=\"text-align: right;\">0.115966</td></tr>\n",
              "<tr><td style=\"text-align: right;\">        0</td><td style=\"text-align: right;\">0.872901</td><td style=\"text-align: right;\">0.127099</td></tr>\n",
              "<tr><td style=\"text-align: right;\">        1</td><td style=\"text-align: right;\">0.763901</td><td style=\"text-align: right;\">0.236099</td></tr>\n",
              "<tr><td style=\"text-align: right;\">        0</td><td style=\"text-align: right;\">0.890546</td><td style=\"text-align: right;\">0.109454</td></tr>\n",
              "<tr><td style=\"text-align: right;\">        0</td><td style=\"text-align: right;\">0.906943</td><td style=\"text-align: right;\">0.093057</td></tr>\n",
              "</tbody>\n",
              "</table>"
            ]
          },
          "metadata": {
            "tags": []
          }
        },
        {
          "output_type": "execute_result",
          "data": {
            "text/plain": [
              ""
            ]
          },
          "metadata": {
            "tags": []
          },
          "execution_count": 32
        }
      ]
    },
    {
      "cell_type": "code",
      "metadata": {
        "id": "0c8XPwLMix4-",
        "outputId": "e47e2b56-046f-47c1-8323-52f725f30a26",
        "colab": {
          "base_uri": "https://localhost:8080/",
          "height": 415
        }
      },
      "source": [
        "data_as_df = preds.as_data_frame()\n",
        "data_as_df"
      ],
      "execution_count": null,
      "outputs": [
        {
          "output_type": "execute_result",
          "data": {
            "text/html": [
              "<div>\n",
              "<style scoped>\n",
              "    .dataframe tbody tr th:only-of-type {\n",
              "        vertical-align: middle;\n",
              "    }\n",
              "\n",
              "    .dataframe tbody tr th {\n",
              "        vertical-align: top;\n",
              "    }\n",
              "\n",
              "    .dataframe thead th {\n",
              "        text-align: right;\n",
              "    }\n",
              "</style>\n",
              "<table border=\"1\" class=\"dataframe\">\n",
              "  <thead>\n",
              "    <tr style=\"text-align: right;\">\n",
              "      <th></th>\n",
              "      <th>predict</th>\n",
              "      <th>p0</th>\n",
              "      <th>p1</th>\n",
              "    </tr>\n",
              "  </thead>\n",
              "  <tbody>\n",
              "    <tr>\n",
              "      <th>0</th>\n",
              "      <td>0</td>\n",
              "      <td>0.888166</td>\n",
              "      <td>0.111834</td>\n",
              "    </tr>\n",
              "    <tr>\n",
              "      <th>1</th>\n",
              "      <td>1</td>\n",
              "      <td>0.806768</td>\n",
              "      <td>0.193232</td>\n",
              "    </tr>\n",
              "    <tr>\n",
              "      <th>2</th>\n",
              "      <td>1</td>\n",
              "      <td>0.762365</td>\n",
              "      <td>0.237635</td>\n",
              "    </tr>\n",
              "    <tr>\n",
              "      <th>3</th>\n",
              "      <td>0</td>\n",
              "      <td>0.890248</td>\n",
              "      <td>0.109752</td>\n",
              "    </tr>\n",
              "    <tr>\n",
              "      <th>4</th>\n",
              "      <td>0</td>\n",
              "      <td>0.885301</td>\n",
              "      <td>0.114699</td>\n",
              "    </tr>\n",
              "    <tr>\n",
              "      <th>...</th>\n",
              "      <td>...</td>\n",
              "      <td>...</td>\n",
              "      <td>...</td>\n",
              "    </tr>\n",
              "    <tr>\n",
              "      <th>20867</th>\n",
              "      <td>1</td>\n",
              "      <td>0.797834</td>\n",
              "      <td>0.202166</td>\n",
              "    </tr>\n",
              "    <tr>\n",
              "      <th>20868</th>\n",
              "      <td>0</td>\n",
              "      <td>0.891687</td>\n",
              "      <td>0.108313</td>\n",
              "    </tr>\n",
              "    <tr>\n",
              "      <th>20869</th>\n",
              "      <td>0</td>\n",
              "      <td>0.885335</td>\n",
              "      <td>0.114665</td>\n",
              "    </tr>\n",
              "    <tr>\n",
              "      <th>20870</th>\n",
              "      <td>0</td>\n",
              "      <td>0.917637</td>\n",
              "      <td>0.082363</td>\n",
              "    </tr>\n",
              "    <tr>\n",
              "      <th>20871</th>\n",
              "      <td>0</td>\n",
              "      <td>0.859245</td>\n",
              "      <td>0.140755</td>\n",
              "    </tr>\n",
              "  </tbody>\n",
              "</table>\n",
              "<p>20872 rows × 3 columns</p>\n",
              "</div>"
            ],
            "text/plain": [
              "       predict        p0        p1\n",
              "0            0  0.888166  0.111834\n",
              "1            1  0.806768  0.193232\n",
              "2            1  0.762365  0.237635\n",
              "3            0  0.890248  0.109752\n",
              "4            0  0.885301  0.114699\n",
              "...        ...       ...       ...\n",
              "20867        1  0.797834  0.202166\n",
              "20868        0  0.891687  0.108313\n",
              "20869        0  0.885335  0.114665\n",
              "20870        0  0.917637  0.082363\n",
              "20871        0  0.859245  0.140755\n",
              "\n",
              "[20872 rows x 3 columns]"
            ]
          },
          "metadata": {
            "tags": []
          },
          "execution_count": 33
        }
      ]
    },
    {
      "cell_type": "code",
      "metadata": {
        "id": "ZN2SCPnbtyYW"
      },
      "source": [
        "data_as_df.to_csv(r'/content/drive/My Drive/Case_Competition/Humana_2020/unseen_test_probab.csv', header=True)"
      ],
      "execution_count": null,
      "outputs": []
    },
    {
      "cell_type": "code",
      "metadata": {
        "id": "sgNQ7wyOkEjd",
        "outputId": "9a9c8220-0d1d-49e0-dca5-210ef60363f7",
        "colab": {
          "base_uri": "https://localhost:8080/",
          "height": 69
        }
      },
      "source": [
        "data_as_df['predict'].value_counts()"
      ],
      "execution_count": null,
      "outputs": [
        {
          "output_type": "execute_result",
          "data": {
            "text/plain": [
              "0    12354\n",
              "1     5327\n",
              "Name: predict, dtype: int64"
            ]
          },
          "metadata": {
            "tags": []
          },
          "execution_count": 30
        }
      ]
    },
    {
      "cell_type": "code",
      "metadata": {
        "id": "Uq99peK2_yu8",
        "outputId": "75cf1613-8f62-4335-fed6-a2c965003307",
        "colab": {
          "base_uri": "https://localhost:8080/",
          "height": 1000
        }
      },
      "source": [
        "perf = aml.leader.model_performance(test)\n",
        "perf"
      ],
      "execution_count": null,
      "outputs": [
        {
          "output_type": "stream",
          "text": [
            "\n",
            "ModelMetricsBinomialGLM: stackedensemble\n",
            "** Reported on test data. **\n",
            "\n",
            "MSE: 0.12033105603751652\n",
            "RMSE: 0.34688767063347253\n",
            "LogLoss: 0.39751829917962\n",
            "Null degrees of freedom: 20871\n",
            "Residual degrees of freedom: 20855\n",
            "Null deviance: 17603.805268614316\n",
            "Residual deviance: 16594.003880954057\n",
            "AIC: 16628.003880954057\n",
            "AUC: 0.6713650089098082\n",
            "AUCPR: 0.2688379039999492\n",
            "Gini: 0.34273001781961643\n",
            "\n",
            "Confusion Matrix (Act/Pred) for max f1 @ threshold = 0.15660203410414097: \n"
          ],
          "name": "stdout"
        },
        {
          "output_type": "display_data",
          "data": {
            "text/html": [
              "<div>\n",
              "<style scoped>\n",
              "    .dataframe tbody tr th:only-of-type {\n",
              "        vertical-align: middle;\n",
              "    }\n",
              "\n",
              "    .dataframe tbody tr th {\n",
              "        vertical-align: top;\n",
              "    }\n",
              "\n",
              "    .dataframe thead th {\n",
              "        text-align: right;\n",
              "    }\n",
              "</style>\n",
              "<table border=\"1\" class=\"dataframe\">\n",
              "  <thead>\n",
              "    <tr style=\"text-align: right;\">\n",
              "      <th></th>\n",
              "      <th></th>\n",
              "      <th>0</th>\n",
              "      <th>1</th>\n",
              "      <th>Error</th>\n",
              "      <th>Rate</th>\n",
              "    </tr>\n",
              "  </thead>\n",
              "  <tbody>\n",
              "    <tr>\n",
              "      <th>0</th>\n",
              "      <td>0</td>\n",
              "      <td>12825.0</td>\n",
              "      <td>4929.0</td>\n",
              "      <td>0.2776</td>\n",
              "      <td>(4929.0/17754.0)</td>\n",
              "    </tr>\n",
              "    <tr>\n",
              "      <th>1</th>\n",
              "      <td>1</td>\n",
              "      <td>1424.0</td>\n",
              "      <td>1694.0</td>\n",
              "      <td>0.4567</td>\n",
              "      <td>(1424.0/3118.0)</td>\n",
              "    </tr>\n",
              "    <tr>\n",
              "      <th>2</th>\n",
              "      <td>Total</td>\n",
              "      <td>14249.0</td>\n",
              "      <td>6623.0</td>\n",
              "      <td>0.3044</td>\n",
              "      <td>(6353.0/20872.0)</td>\n",
              "    </tr>\n",
              "  </tbody>\n",
              "</table>\n",
              "</div>"
            ],
            "text/plain": [
              "                0       1   Error               Rate\n",
              "0      0  12825.0  4929.0  0.2776   (4929.0/17754.0)\n",
              "1      1   1424.0  1694.0  0.4567    (1424.0/3118.0)\n",
              "2  Total  14249.0  6623.0  0.3044   (6353.0/20872.0)"
            ]
          },
          "metadata": {
            "tags": []
          }
        },
        {
          "output_type": "stream",
          "text": [
            "\n",
            "Maximum Metrics: Maximum metrics at their respective thresholds\n"
          ],
          "name": "stdout"
        },
        {
          "output_type": "display_data",
          "data": {
            "text/html": [
              "<div>\n",
              "<style scoped>\n",
              "    .dataframe tbody tr th:only-of-type {\n",
              "        vertical-align: middle;\n",
              "    }\n",
              "\n",
              "    .dataframe tbody tr th {\n",
              "        vertical-align: top;\n",
              "    }\n",
              "\n",
              "    .dataframe thead th {\n",
              "        text-align: right;\n",
              "    }\n",
              "</style>\n",
              "<table border=\"1\" class=\"dataframe\">\n",
              "  <thead>\n",
              "    <tr style=\"text-align: right;\">\n",
              "      <th></th>\n",
              "      <th>metric</th>\n",
              "      <th>threshold</th>\n",
              "      <th>value</th>\n",
              "      <th>idx</th>\n",
              "    </tr>\n",
              "  </thead>\n",
              "  <tbody>\n",
              "    <tr>\n",
              "      <th>0</th>\n",
              "      <td>max f1</td>\n",
              "      <td>0.156602</td>\n",
              "      <td>0.347808</td>\n",
              "      <td>248.0</td>\n",
              "    </tr>\n",
              "    <tr>\n",
              "      <th>1</th>\n",
              "      <td>max f2</td>\n",
              "      <td>0.108433</td>\n",
              "      <td>0.487708</td>\n",
              "      <td>320.0</td>\n",
              "    </tr>\n",
              "    <tr>\n",
              "      <th>2</th>\n",
              "      <td>max f0point5</td>\n",
              "      <td>0.216516</td>\n",
              "      <td>0.310723</td>\n",
              "      <td>178.0</td>\n",
              "    </tr>\n",
              "    <tr>\n",
              "      <th>3</th>\n",
              "      <td>max accuracy</td>\n",
              "      <td>0.612854</td>\n",
              "      <td>0.850757</td>\n",
              "      <td>2.0</td>\n",
              "    </tr>\n",
              "    <tr>\n",
              "      <th>4</th>\n",
              "      <td>max precision</td>\n",
              "      <td>0.710393</td>\n",
              "      <td>1.000000</td>\n",
              "      <td>0.0</td>\n",
              "    </tr>\n",
              "    <tr>\n",
              "      <th>5</th>\n",
              "      <td>max recall</td>\n",
              "      <td>0.064481</td>\n",
              "      <td>1.000000</td>\n",
              "      <td>397.0</td>\n",
              "    </tr>\n",
              "    <tr>\n",
              "      <th>6</th>\n",
              "      <td>max specificity</td>\n",
              "      <td>0.710393</td>\n",
              "      <td>1.000000</td>\n",
              "      <td>0.0</td>\n",
              "    </tr>\n",
              "    <tr>\n",
              "      <th>7</th>\n",
              "      <td>max absolute_mcc</td>\n",
              "      <td>0.181496</td>\n",
              "      <td>0.203938</td>\n",
              "      <td>216.0</td>\n",
              "    </tr>\n",
              "    <tr>\n",
              "      <th>8</th>\n",
              "      <td>max min_per_class_accuracy</td>\n",
              "      <td>0.136075</td>\n",
              "      <td>0.629886</td>\n",
              "      <td>276.0</td>\n",
              "    </tr>\n",
              "    <tr>\n",
              "      <th>9</th>\n",
              "      <td>max mean_per_class_accuracy</td>\n",
              "      <td>0.153131</td>\n",
              "      <td>0.632910</td>\n",
              "      <td>252.0</td>\n",
              "    </tr>\n",
              "    <tr>\n",
              "      <th>10</th>\n",
              "      <td>max tns</td>\n",
              "      <td>0.710393</td>\n",
              "      <td>17754.000000</td>\n",
              "      <td>0.0</td>\n",
              "    </tr>\n",
              "    <tr>\n",
              "      <th>11</th>\n",
              "      <td>max fns</td>\n",
              "      <td>0.710393</td>\n",
              "      <td>3117.000000</td>\n",
              "      <td>0.0</td>\n",
              "    </tr>\n",
              "    <tr>\n",
              "      <th>12</th>\n",
              "      <td>max fps</td>\n",
              "      <td>0.060212</td>\n",
              "      <td>17754.000000</td>\n",
              "      <td>399.0</td>\n",
              "    </tr>\n",
              "    <tr>\n",
              "      <th>13</th>\n",
              "      <td>max tps</td>\n",
              "      <td>0.064481</td>\n",
              "      <td>3118.000000</td>\n",
              "      <td>397.0</td>\n",
              "    </tr>\n",
              "    <tr>\n",
              "      <th>14</th>\n",
              "      <td>max tnr</td>\n",
              "      <td>0.710393</td>\n",
              "      <td>1.000000</td>\n",
              "      <td>0.0</td>\n",
              "    </tr>\n",
              "    <tr>\n",
              "      <th>15</th>\n",
              "      <td>max fnr</td>\n",
              "      <td>0.710393</td>\n",
              "      <td>0.999679</td>\n",
              "      <td>0.0</td>\n",
              "    </tr>\n",
              "    <tr>\n",
              "      <th>16</th>\n",
              "      <td>max fpr</td>\n",
              "      <td>0.060212</td>\n",
              "      <td>1.000000</td>\n",
              "      <td>399.0</td>\n",
              "    </tr>\n",
              "    <tr>\n",
              "      <th>17</th>\n",
              "      <td>max tpr</td>\n",
              "      <td>0.064481</td>\n",
              "      <td>1.000000</td>\n",
              "      <td>397.0</td>\n",
              "    </tr>\n",
              "  </tbody>\n",
              "</table>\n",
              "</div>"
            ],
            "text/plain": [
              "                         metric  threshold         value    idx\n",
              "0                        max f1   0.156602      0.347808  248.0\n",
              "1                        max f2   0.108433      0.487708  320.0\n",
              "2                  max f0point5   0.216516      0.310723  178.0\n",
              "3                  max accuracy   0.612854      0.850757    2.0\n",
              "4                 max precision   0.710393      1.000000    0.0\n",
              "5                    max recall   0.064481      1.000000  397.0\n",
              "6               max specificity   0.710393      1.000000    0.0\n",
              "7              max absolute_mcc   0.181496      0.203938  216.0\n",
              "8    max min_per_class_accuracy   0.136075      0.629886  276.0\n",
              "9   max mean_per_class_accuracy   0.153131      0.632910  252.0\n",
              "10                      max tns   0.710393  17754.000000    0.0\n",
              "11                      max fns   0.710393   3117.000000    0.0\n",
              "12                      max fps   0.060212  17754.000000  399.0\n",
              "13                      max tps   0.064481   3118.000000  397.0\n",
              "14                      max tnr   0.710393      1.000000    0.0\n",
              "15                      max fnr   0.710393      0.999679    0.0\n",
              "16                      max fpr   0.060212      1.000000  399.0\n",
              "17                      max tpr   0.064481      1.000000  397.0"
            ]
          },
          "metadata": {
            "tags": []
          }
        },
        {
          "output_type": "stream",
          "text": [
            "\n",
            "Gains/Lift Table: Avg response rate: 14.94 %, avg score: 14.99 %\n"
          ],
          "name": "stdout"
        },
        {
          "output_type": "display_data",
          "data": {
            "text/html": [
              "<div>\n",
              "<style scoped>\n",
              "    .dataframe tbody tr th:only-of-type {\n",
              "        vertical-align: middle;\n",
              "    }\n",
              "\n",
              "    .dataframe tbody tr th {\n",
              "        vertical-align: top;\n",
              "    }\n",
              "\n",
              "    .dataframe thead th {\n",
              "        text-align: right;\n",
              "    }\n",
              "</style>\n",
              "<table border=\"1\" class=\"dataframe\">\n",
              "  <thead>\n",
              "    <tr style=\"text-align: right;\">\n",
              "      <th></th>\n",
              "      <th>group</th>\n",
              "      <th>cumulative_data_fraction</th>\n",
              "      <th>lower_threshold</th>\n",
              "      <th>lift</th>\n",
              "      <th>cumulative_lift</th>\n",
              "      <th>response_rate</th>\n",
              "      <th>score</th>\n",
              "      <th>cumulative_response_rate</th>\n",
              "      <th>cumulative_score</th>\n",
              "      <th>capture_rate</th>\n",
              "      <th>cumulative_capture_rate</th>\n",
              "      <th>gain</th>\n",
              "      <th>cumulative_gain</th>\n",
              "      <th>kolmogorov_smirnov</th>\n",
              "    </tr>\n",
              "  </thead>\n",
              "  <tbody>\n",
              "    <tr>\n",
              "      <th>0</th>\n",
              "      <td>1</td>\n",
              "      <td>0.010013</td>\n",
              "      <td>0.403492</td>\n",
              "      <td>2.690425</td>\n",
              "      <td>2.690425</td>\n",
              "      <td>0.401914</td>\n",
              "      <td>0.453055</td>\n",
              "      <td>0.401914</td>\n",
              "      <td>0.453055</td>\n",
              "      <td>0.026940</td>\n",
              "      <td>0.026940</td>\n",
              "      <td>169.042540</td>\n",
              "      <td>169.042540</td>\n",
              "      <td>0.019900</td>\n",
              "    </tr>\n",
              "    <tr>\n",
              "      <th>1</th>\n",
              "      <td>2</td>\n",
              "      <td>0.020027</td>\n",
              "      <td>0.370682</td>\n",
              "      <td>2.658397</td>\n",
              "      <td>2.674411</td>\n",
              "      <td>0.397129</td>\n",
              "      <td>0.385396</td>\n",
              "      <td>0.399522</td>\n",
              "      <td>0.419225</td>\n",
              "      <td>0.026620</td>\n",
              "      <td>0.053560</td>\n",
              "      <td>165.839653</td>\n",
              "      <td>167.441097</td>\n",
              "      <td>0.039422</td>\n",
              "    </tr>\n",
              "    <tr>\n",
              "      <th>2</th>\n",
              "      <td>3</td>\n",
              "      <td>0.030040</td>\n",
              "      <td>0.349666</td>\n",
              "      <td>2.466223</td>\n",
              "      <td>2.605015</td>\n",
              "      <td>0.368421</td>\n",
              "      <td>0.359384</td>\n",
              "      <td>0.389155</td>\n",
              "      <td>0.399278</td>\n",
              "      <td>0.024695</td>\n",
              "      <td>0.078255</td>\n",
              "      <td>146.622329</td>\n",
              "      <td>160.501507</td>\n",
              "      <td>0.056683</td>\n",
              "    </tr>\n",
              "    <tr>\n",
              "      <th>3</th>\n",
              "      <td>4</td>\n",
              "      <td>0.040006</td>\n",
              "      <td>0.332265</td>\n",
              "      <td>2.317166</td>\n",
              "      <td>2.533311</td>\n",
              "      <td>0.346154</td>\n",
              "      <td>0.340846</td>\n",
              "      <td>0.378443</td>\n",
              "      <td>0.384723</td>\n",
              "      <td>0.023092</td>\n",
              "      <td>0.101347</td>\n",
              "      <td>131.716584</td>\n",
              "      <td>153.331131</td>\n",
              "      <td>0.072114</td>\n",
              "    </tr>\n",
              "    <tr>\n",
              "      <th>4</th>\n",
              "      <td>5</td>\n",
              "      <td>0.050019</td>\n",
              "      <td>0.318303</td>\n",
              "      <td>2.081877</td>\n",
              "      <td>2.442938</td>\n",
              "      <td>0.311005</td>\n",
              "      <td>0.324763</td>\n",
              "      <td>0.364943</td>\n",
              "      <td>0.372719</td>\n",
              "      <td>0.020847</td>\n",
              "      <td>0.122194</td>\n",
              "      <td>108.187680</td>\n",
              "      <td>144.293793</td>\n",
              "      <td>0.084850</td>\n",
              "    </tr>\n",
              "    <tr>\n",
              "      <th>5</th>\n",
              "      <td>6</td>\n",
              "      <td>0.100038</td>\n",
              "      <td>0.267801</td>\n",
              "      <td>1.981280</td>\n",
              "      <td>2.212109</td>\n",
              "      <td>0.295977</td>\n",
              "      <td>0.291495</td>\n",
              "      <td>0.330460</td>\n",
              "      <td>0.332107</td>\n",
              "      <td>0.099102</td>\n",
              "      <td>0.221296</td>\n",
              "      <td>98.128037</td>\n",
              "      <td>121.210915</td>\n",
              "      <td>0.142553</td>\n",
              "    </tr>\n",
              "    <tr>\n",
              "      <th>6</th>\n",
              "      <td>7</td>\n",
              "      <td>0.150010</td>\n",
              "      <td>0.227646</td>\n",
              "      <td>1.758548</td>\n",
              "      <td>2.061019</td>\n",
              "      <td>0.262704</td>\n",
              "      <td>0.247595</td>\n",
              "      <td>0.307889</td>\n",
              "      <td>0.303954</td>\n",
              "      <td>0.087877</td>\n",
              "      <td>0.309173</td>\n",
              "      <td>75.854793</td>\n",
              "      <td>106.101865</td>\n",
              "      <td>0.187116</td>\n",
              "    </tr>\n",
              "    <tr>\n",
              "      <th>7</th>\n",
              "      <td>8</td>\n",
              "      <td>0.200029</td>\n",
              "      <td>0.199698</td>\n",
              "      <td>1.660685</td>\n",
              "      <td>1.960911</td>\n",
              "      <td>0.248084</td>\n",
              "      <td>0.213236</td>\n",
              "      <td>0.292934</td>\n",
              "      <td>0.281269</td>\n",
              "      <td>0.083066</td>\n",
              "      <td>0.392239</td>\n",
              "      <td>66.068484</td>\n",
              "      <td>96.091122</td>\n",
              "      <td>0.225966</td>\n",
              "    </tr>\n",
              "    <tr>\n",
              "      <th>8</th>\n",
              "      <td>9</td>\n",
              "      <td>0.300019</td>\n",
              "      <td>0.161029</td>\n",
              "      <td>1.260544</td>\n",
              "      <td>1.727493</td>\n",
              "      <td>0.188309</td>\n",
              "      <td>0.178574</td>\n",
              "      <td>0.258065</td>\n",
              "      <td>0.247043</td>\n",
              "      <td>0.126042</td>\n",
              "      <td>0.518281</td>\n",
              "      <td>26.054414</td>\n",
              "      <td>72.749281</td>\n",
              "      <td>0.256593</td>\n",
              "    </tr>\n",
              "    <tr>\n",
              "      <th>9</th>\n",
              "      <td>10</td>\n",
              "      <td>0.400010</td>\n",
              "      <td>0.137406</td>\n",
              "      <td>1.029605</td>\n",
              "      <td>1.553042</td>\n",
              "      <td>0.153809</td>\n",
              "      <td>0.148406</td>\n",
              "      <td>0.232004</td>\n",
              "      <td>0.222387</td>\n",
              "      <td>0.102951</td>\n",
              "      <td>0.621232</td>\n",
              "      <td>2.960475</td>\n",
              "      <td>55.304169</td>\n",
              "      <td>0.260074</td>\n",
              "    </tr>\n",
              "    <tr>\n",
              "      <th>10</th>\n",
              "      <td>11</td>\n",
              "      <td>0.500000</td>\n",
              "      <td>0.121037</td>\n",
              "      <td>0.830740</td>\n",
              "      <td>1.408595</td>\n",
              "      <td>0.124102</td>\n",
              "      <td>0.128829</td>\n",
              "      <td>0.210425</td>\n",
              "      <td>0.203677</td>\n",
              "      <td>0.083066</td>\n",
              "      <td>0.704298</td>\n",
              "      <td>-16.925972</td>\n",
              "      <td>40.859525</td>\n",
              "      <td>0.240177</td>\n",
              "    </tr>\n",
              "    <tr>\n",
              "      <th>11</th>\n",
              "      <td>12</td>\n",
              "      <td>0.599990</td>\n",
              "      <td>0.108926</td>\n",
              "      <td>0.769798</td>\n",
              "      <td>1.302138</td>\n",
              "      <td>0.114998</td>\n",
              "      <td>0.114809</td>\n",
              "      <td>0.194522</td>\n",
              "      <td>0.188867</td>\n",
              "      <td>0.076972</td>\n",
              "      <td>0.781270</td>\n",
              "      <td>-23.020205</td>\n",
              "      <td>30.213754</td>\n",
              "      <td>0.213116</td>\n",
              "    </tr>\n",
              "    <tr>\n",
              "      <th>12</th>\n",
              "      <td>13</td>\n",
              "      <td>0.699981</td>\n",
              "      <td>0.100017</td>\n",
              "      <td>0.638291</td>\n",
              "      <td>1.207309</td>\n",
              "      <td>0.095352</td>\n",
              "      <td>0.104261</td>\n",
              "      <td>0.180356</td>\n",
              "      <td>0.176781</td>\n",
              "      <td>0.063823</td>\n",
              "      <td>0.845093</td>\n",
              "      <td>-36.170920</td>\n",
              "      <td>20.730878</td>\n",
              "      <td>0.170597</td>\n",
              "    </tr>\n",
              "    <tr>\n",
              "      <th>13</th>\n",
              "      <td>14</td>\n",
              "      <td>0.799971</td>\n",
              "      <td>0.092417</td>\n",
              "      <td>0.529236</td>\n",
              "      <td>1.122555</td>\n",
              "      <td>0.079061</td>\n",
              "      <td>0.096212</td>\n",
              "      <td>0.167695</td>\n",
              "      <td>0.166711</td>\n",
              "      <td>0.052919</td>\n",
              "      <td>0.898012</td>\n",
              "      <td>-47.076391</td>\n",
              "      <td>12.255477</td>\n",
              "      <td>0.115258</td>\n",
              "    </tr>\n",
              "    <tr>\n",
              "      <th>14</th>\n",
              "      <td>15</td>\n",
              "      <td>0.899962</td>\n",
              "      <td>0.083910</td>\n",
              "      <td>0.561311</td>\n",
              "      <td>1.060198</td>\n",
              "      <td>0.083852</td>\n",
              "      <td>0.088353</td>\n",
              "      <td>0.158379</td>\n",
              "      <td>0.158005</td>\n",
              "      <td>0.056126</td>\n",
              "      <td>0.954137</td>\n",
              "      <td>-43.868900</td>\n",
              "      <td>6.019767</td>\n",
              "      <td>0.063690</td>\n",
              "    </tr>\n",
              "    <tr>\n",
              "      <th>15</th>\n",
              "      <td>16</td>\n",
              "      <td>1.000000</td>\n",
              "      <td>0.058499</td>\n",
              "      <td>0.458452</td>\n",
              "      <td>1.000000</td>\n",
              "      <td>0.068487</td>\n",
              "      <td>0.077091</td>\n",
              "      <td>0.149387</td>\n",
              "      <td>0.149910</td>\n",
              "      <td>0.045863</td>\n",
              "      <td>1.000000</td>\n",
              "      <td>-54.154839</td>\n",
              "      <td>0.000000</td>\n",
              "      <td>0.000000</td>\n",
              "    </tr>\n",
              "  </tbody>\n",
              "</table>\n",
              "</div>"
            ],
            "text/plain": [
              "    group  cumulative_data_fraction  ...  cumulative_gain  kolmogorov_smirnov\n",
              "0       1                  0.010013  ...       169.042540            0.019900\n",
              "1       2                  0.020027  ...       167.441097            0.039422\n",
              "2       3                  0.030040  ...       160.501507            0.056683\n",
              "3       4                  0.040006  ...       153.331131            0.072114\n",
              "4       5                  0.050019  ...       144.293793            0.084850\n",
              "5       6                  0.100038  ...       121.210915            0.142553\n",
              "6       7                  0.150010  ...       106.101865            0.187116\n",
              "7       8                  0.200029  ...        96.091122            0.225966\n",
              "8       9                  0.300019  ...        72.749281            0.256593\n",
              "9      10                  0.400010  ...        55.304169            0.260074\n",
              "10     11                  0.500000  ...        40.859525            0.240177\n",
              "11     12                  0.599990  ...        30.213754            0.213116\n",
              "12     13                  0.699981  ...        20.730878            0.170597\n",
              "13     14                  0.799971  ...        12.255477            0.115258\n",
              "14     15                  0.899962  ...         6.019767            0.063690\n",
              "15     16                  1.000000  ...         0.000000            0.000000\n",
              "\n",
              "[16 rows x 14 columns]"
            ]
          },
          "metadata": {
            "tags": []
          }
        },
        {
          "output_type": "stream",
          "text": [
            "\n"
          ],
          "name": "stdout"
        },
        {
          "output_type": "execute_result",
          "data": {
            "text/plain": [
              ""
            ]
          },
          "metadata": {
            "tags": []
          },
          "execution_count": 22
        }
      ]
    }
  ]
}